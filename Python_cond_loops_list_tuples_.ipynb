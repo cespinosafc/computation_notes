{
  "nbformat": 4,
  "nbformat_minor": 0,
  "metadata": {
    "colab": {
      "provenance": [],
      "toc_visible": true,
      "authorship_tag": "ABX9TyOMiGKbikhm4X4fuE5PGsEy",
      "include_colab_link": true
    },
    "kernelspec": {
      "name": "python3",
      "display_name": "Python 3"
    },
    "language_info": {
      "name": "python"
    }
  },
  "cells": [
    {
      "cell_type": "markdown",
      "metadata": {
        "id": "view-in-github",
        "colab_type": "text"
      },
      "source": [
        "<a href=\"https://colab.research.google.com/github/cespinosafc/computation_notes/blob/main/Python_cond_loops_list_tuples_.ipynb\" target=\"_parent\"><img src=\"https://colab.research.google.com/assets/colab-badge.svg\" alt=\"Open In Colab\"/></a>"
      ]
    },
    {
      "cell_type": "markdown",
      "source": [
        "# Condicionales"
      ],
      "metadata": {
        "id": "SmwW-eYdNhLm"
      }
    },
    {
      "cell_type": "markdown",
      "source": [
        "## Condicional If\n",
        "\n",
        "El condicional `if` nos permite ejecutar un código siempre y cuando una condición se cumpla.\n",
        "\n",
        "La sintáxis general de un condicional es\n",
        "\n",
        "```\n",
        "if condicion:\n",
        "    codigo1\n",
        "    codigo2\n",
        "    .\n",
        "    .\n",
        "```\n",
        "A diferencia de C, en Python se identifica el código dentro del `if` por medio de la **indentación**. Todo el código que este \"dentro\" o indentando dentro del if,  Python lo indentificará como parte del `if`.\n",
        "\n",
        "Por ejemplo:"
      ],
      "metadata": {
        "id": "jDFiCnEdNmNG"
      }
    },
    {
      "cell_type": "code",
      "execution_count": null,
      "metadata": {
        "colab": {
          "base_uri": "https://localhost:8080/"
        },
        "id": "LudUTMtZuBNs",
        "outputId": "74a85f4a-4e9e-42ed-843b-6d6e8fbae0ef"
      },
      "outputs": [
        {
          "output_type": "stream",
          "name": "stdout",
          "text": [
            "Hola 1\n",
            "Hola 1.1\n",
            "Hola 1.2\n",
            "Hola 2\n",
            "Hola 3\n"
          ]
        }
      ],
      "source": [
        "if 1>0:\n",
        "    print(\"Hola 1\")\n",
        "    print(\"Hola 1.1\")\n",
        "    print(\"Hola 1.2\")\n",
        "print(\"Hola 2\")\n",
        "print(\"Hola 3\")"
      ]
    },
    {
      "cell_type": "markdown",
      "source": [
        "En el anterior ejemplo, solo los print que estan indentados se ejecutarán si la condición del condicional `if` se cumple. Los print que estan afuera (no indentados) siempre se ejecutarán."
      ],
      "metadata": {
        "id": "3SRhRxBnOhJN"
      }
    },
    {
      "cell_type": "code",
      "source": [
        "if 1<0:\n",
        "    print(\"Hola 1\")\n",
        "    print(\"Hola 1.1\")\n",
        "    print(\"Hola 1.2\")\n",
        "print(\"Hola 2\")\n",
        "print(\"Hola 3\")"
      ],
      "metadata": {
        "colab": {
          "base_uri": "https://localhost:8080/"
        },
        "id": "PPPVijg4O5Fm",
        "outputId": "ec0821e3-d718-43f6-e0b6-15445b4de3f1"
      },
      "execution_count": null,
      "outputs": [
        {
          "output_type": "stream",
          "name": "stdout",
          "text": [
            "Hola 2\n",
            "Hola 3\n"
          ]
        }
      ]
    },
    {
      "cell_type": "markdown",
      "source": [
        "Si necesitamos que cierto código se ejecute si la condición no se cumple, utilizaremos la instrucción `else`.\n",
        "\n",
        "Este comando ejecutará el código que este *dentro* (indentado) de él. El `else` no se puede usar solo, siempre debe de estar acompañado por un `if`.\n",
        "\n",
        "```\n",
        "codigo1\n",
        "codigo2\n",
        "if condicion:\n",
        "    codigo1_if\n",
        "    codigo2_if\n",
        "    .\n",
        "    .\n",
        "else:\n",
        "    codigo1_else\n",
        "    codigo2_else\n",
        "    .\n",
        "    .\n",
        "codigo3\n",
        "codigo4\n",
        "```\n",
        "Por ejemplo:"
      ],
      "metadata": {
        "id": "f3vCAvlDO7M3"
      }
    },
    {
      "cell_type": "code",
      "source": [
        "if 1<0:\n",
        "    print(\"Hola 1\")\n",
        "    print(\"Hola 1.1\")\n",
        "    print(\"Hola 1.2\")\n",
        "else:\n",
        "    print(\"Hola 2\")\n",
        "print(\"Hola 3\")"
      ],
      "metadata": {
        "colab": {
          "base_uri": "https://localhost:8080/"
        },
        "id": "6d2iI4lwu-jI",
        "outputId": "8a35355e-019f-491e-86f8-aa5d786e29ca"
      },
      "execution_count": null,
      "outputs": [
        {
          "output_type": "stream",
          "name": "stdout",
          "text": [
            "Hola 2\n",
            "Hola 3\n"
          ]
        }
      ]
    },
    {
      "cell_type": "markdown",
      "source": [
        "En el caso anterior, no se ejecutaron los print que estaban dentro de `if` por que la condición es falsa, solo se ejecuta las líneas dentro del `else` y las líneas que están despues del condicional."
      ],
      "metadata": {
        "id": "xZhlD6dIQnMy"
      }
    },
    {
      "cell_type": "markdown",
      "source": [
        "## Condicional elif"
      ],
      "metadata": {
        "id": "RuZye5sORFlq"
      }
    },
    {
      "cell_type": "markdown",
      "source": [
        "En algunas ocasiones es útil realizar una comparación después de que una condición en un `if` no se cumple. En lugar de poner:\n",
        "```\n",
        ".\n",
        ".\n",
        "else:\n",
        "    if:\n",
        "        .\n",
        "        .\n",
        "```\n",
        "Se puede utilizar la instrucción `elif`. Esta instrucción es a combinación de `else` con `if`. Siempre debe de ir despues de un `if` y se ejecutará cuando la condición del primer original no se cumpla. Por ejemplo:"
      ],
      "metadata": {
        "id": "v1ijErwCQ6uF"
      }
    },
    {
      "cell_type": "code",
      "source": [
        "a = -5\n",
        "if a<0:\n",
        "    print(f'{a} es menor que cero')\n",
        "elif a>0:\n",
        "    print(f'{a} es mayor que cero')\n",
        "else:\n",
        "    print(f'{a} es igual a cero')"
      ],
      "metadata": {
        "colab": {
          "base_uri": "https://localhost:8080/"
        },
        "id": "cD3xUonqvpwi",
        "outputId": "9b7ddd18-c851-4f6a-fb40-bc721ac28324"
      },
      "execution_count": null,
      "outputs": [
        {
          "output_type": "stream",
          "name": "stdout",
          "text": [
            "-5 es menor que cero\n"
          ]
        }
      ]
    },
    {
      "cell_type": "markdown",
      "source": [
        "En este caso, cuando `a<0` no se cumple, evalua el siguiente condicional, `a>0`. Por último, si ninguna de las dos condiciones es verdadera, se ejecuta el código dentro del `else`."
      ],
      "metadata": {
        "id": "a5jRfIBFTXbm"
      }
    },
    {
      "cell_type": "markdown",
      "source": [
        "## Condicionales anidados"
      ],
      "metadata": {
        "id": "r1JtpJzmTnsG"
      }
    },
    {
      "cell_type": "markdown",
      "source": [
        "Aunque existe la instrucción `elif`, a veces es necesario tener un condicional `if` dentro de otro condicional `if`, a este tipo de casos se les llama condicionales anidados.\n",
        "\n",
        "Por ejemplo, tengamos el siguiente código"
      ],
      "metadata": {
        "id": "muK1f-tdTqAh"
      }
    },
    {
      "cell_type": "code",
      "source": [
        "edad = 16\n",
        "if edad >= 18:\n",
        "    print('Eres mayor de edad')\n",
        "else:\n",
        "    if edad >= 16:\n",
        "        print('Eres mayor de edad y puedes conducir')\n",
        "    else:\n",
        "        print('No puedes conducir y no eres mayor de edad')"
      ],
      "metadata": {
        "colab": {
          "base_uri": "https://localhost:8080/"
        },
        "id": "FnsFDq3qwaAL",
        "outputId": "49a74982-80a9-4a98-dacf-53f683dadb11"
      },
      "execution_count": null,
      "outputs": [
        {
          "output_type": "stream",
          "name": "stdout",
          "text": [
            "Eres mayor de edad y puedes conducir\n"
          ]
        }
      ]
    },
    {
      "cell_type": "markdown",
      "source": [
        "En este caso, se hace otro condicional dentro del `else` de otro condicional. Esto puede ser útil en ciertos casos."
      ],
      "metadata": {
        "id": "vnSebbAqfui8"
      }
    },
    {
      "cell_type": "markdown",
      "source": [
        "## Tipos de Condiciones"
      ],
      "metadata": {
        "id": "Xqb3aKUOf22u"
      }
    },
    {
      "cell_type": "markdown",
      "source": [
        "### Operaciones matemáticas\n",
        "Hasta ahora hemos usado las operaciones usuales de comparación matemática\n",
        "- Mayor que: $>$\n",
        "- Menor que: $<$\n",
        "- Mayor e igual que: $>=$\n",
        "- Menor e igual que: $<=$\n",
        "- Comparación (son iguales): $==$\n",
        "- Comparación (no son iguales): $!=$\n",
        "\n",
        "Todas estas condiciones regresarán dos posibles valores: `True` o `False`"
      ],
      "metadata": {
        "id": "5QQL2UHkf7kQ"
      }
    },
    {
      "cell_type": "markdown",
      "source": [
        "### Operaciones Lógicas\n",
        "\n",
        "Tenemos diversas operaciones lógicas que siguen las tablas de verdad usuales:\n",
        "- Disyunción: `or`\n",
        "- Conjunción: `and`\n",
        "- Negación: `not`\n",
        "\n",
        "Las condiciones en un condicional pueden ser complejas al unir una o mas:"
      ],
      "metadata": {
        "id": "WILbCT98gfOh"
      }
    },
    {
      "cell_type": "code",
      "source": [
        "a = 5\n",
        "b = -10\n",
        "if ((a>0) and (b>0)):\n",
        "        print(\"a y b son mayores a cero\")\n",
        "elif ((a>0) or (b<0)):\n",
        "    print(\"Al menos uno es mayor que cero\")\n"
      ],
      "metadata": {
        "colab": {
          "base_uri": "https://localhost:8080/"
        },
        "id": "GAYlvWgUw6IU",
        "outputId": "fcac8d68-a502-43fb-fac0-39daf3bfa1e9"
      },
      "execution_count": null,
      "outputs": [
        {
          "output_type": "stream",
          "name": "stdout",
          "text": [
            "Al menos uno es mayor que cero\n"
          ]
        }
      ]
    },
    {
      "cell_type": "markdown",
      "source": [
        "# Ciclos"
      ],
      "metadata": {
        "id": "wld92dEahGOO"
      }
    },
    {
      "cell_type": "markdown",
      "source": [
        "## Ciclo For\n",
        "\n",
        "Un ciclo for iterará cada uno de los elementos de una secuencia, permitiendo usar cada uno de los elementos en la secuencia en cada iteración del ciclo"
      ],
      "metadata": {
        "id": "TxwUmYoShJgr"
      }
    },
    {
      "cell_type": "code",
      "source": [
        "for i in range(5):\n",
        "    print(i)"
      ],
      "metadata": {
        "colab": {
          "base_uri": "https://localhost:8080/"
        },
        "id": "BapRCozQysoX",
        "outputId": "c60cf4ca-6ea0-48da-9eef-48e03ae5ffe4"
      },
      "execution_count": null,
      "outputs": [
        {
          "output_type": "stream",
          "name": "stdout",
          "text": [
            "0\n",
            "1\n",
            "2\n",
            "3\n",
            "4\n"
          ]
        }
      ]
    },
    {
      "cell_type": "markdown",
      "source": [
        "En este caso, la función `range()` en Python genera una secuencia de números enteros y es comúnmente utilizada en bucles para iterar un número específico de veces.\n",
        "\n",
        "Sintaxis básica: `range(stop)` genera una secuencia desde 0 hasta `stop - 1`. También puedes especificar un inicio (`range(start, stop)`) y el tamaño del incremento (`range(start, stop, step)`)."
      ],
      "metadata": {
        "id": "duemoCh2icjx"
      }
    },
    {
      "cell_type": "code",
      "source": [
        "for i in range(1):\n",
        "    print(i)"
      ],
      "metadata": {
        "colab": {
          "base_uri": "https://localhost:8080/"
        },
        "id": "s_XHpCNazcQA",
        "outputId": "8088b069-2693-4324-f2cf-52b169f72ee7"
      },
      "execution_count": null,
      "outputs": [
        {
          "output_type": "stream",
          "name": "stdout",
          "text": [
            "0\n"
          ]
        }
      ]
    },
    {
      "cell_type": "code",
      "source": [
        "for i in range(1,7):\n",
        "    print(i)"
      ],
      "metadata": {
        "colab": {
          "base_uri": "https://localhost:8080/"
        },
        "id": "PSCvgXPEz7We",
        "outputId": "f748a83c-ea00-4f04-c985-8dbb44ce534b"
      },
      "execution_count": null,
      "outputs": [
        {
          "output_type": "stream",
          "name": "stdout",
          "text": [
            "1\n",
            "2\n",
            "3\n",
            "4\n",
            "5\n",
            "6\n"
          ]
        }
      ]
    },
    {
      "cell_type": "code",
      "source": [
        "for i in range(1,7,2):\n",
        "    print(i)"
      ],
      "metadata": {
        "colab": {
          "base_uri": "https://localhost:8080/"
        },
        "id": "USGhkZ9Y0AUY",
        "outputId": "4a5931f8-2e77-45b0-edfa-a6aafcd4baa5"
      },
      "execution_count": null,
      "outputs": [
        {
          "output_type": "stream",
          "name": "stdout",
          "text": [
            "1\n",
            "3\n",
            "5\n"
          ]
        }
      ]
    },
    {
      "cell_type": "markdown",
      "source": [
        "Es importante destacar que `range()` devuelve un iterador, no una lista. Un iterador es un objeto que produce los elementos uno por uno a medida que se necesitan, en lugar de almacenarlos todos en memoria, lo que lo hace más eficiente.\n",
        "\n",
        "Si lo ponemos solo en el interprete, nos nos regresará la lista"
      ],
      "metadata": {
        "id": "lzN6IJ1Fjqd0"
      }
    },
    {
      "cell_type": "code",
      "source": [
        "range(5)"
      ],
      "metadata": {
        "colab": {
          "base_uri": "https://localhost:8080/"
        },
        "id": "oS5X_zSM0TBX",
        "outputId": "3866e902-16e8-42f7-f362-bdd444331fe4"
      },
      "execution_count": null,
      "outputs": [
        {
          "output_type": "execute_result",
          "data": {
            "text/plain": [
              "range(0, 5)"
            ]
          },
          "metadata": {},
          "execution_count": 17
        }
      ]
    },
    {
      "cell_type": "markdown",
      "source": [
        "Ni siquiera poniendolo en un print nos dará la lista"
      ],
      "metadata": {
        "id": "tYLPV7bGj1Uf"
      }
    },
    {
      "cell_type": "code",
      "source": [
        "print(range(5))"
      ],
      "metadata": {
        "colab": {
          "base_uri": "https://localhost:8080/"
        },
        "id": "cX7ImIFG0Yqq",
        "outputId": "52de1113-0265-46c9-a40f-0445f9bc632f"
      },
      "execution_count": null,
      "outputs": [
        {
          "output_type": "stream",
          "name": "stdout",
          "text": [
            "range(0, 5)\n"
          ]
        }
      ]
    },
    {
      "cell_type": "markdown",
      "source": [
        "Y si revisamos su tipo, nos dirá que es una clase range."
      ],
      "metadata": {
        "id": "p27elAH-j4XD"
      }
    },
    {
      "cell_type": "code",
      "source": [
        "m = range(5)\n",
        "print(type(m))"
      ],
      "metadata": {
        "colab": {
          "base_uri": "https://localhost:8080/"
        },
        "id": "Gf6UhLIZ0bes",
        "outputId": "21ecaa43-5762-4f5a-ae64-d1854d73c620"
      },
      "execution_count": null,
      "outputs": [
        {
          "output_type": "stream",
          "name": "stdout",
          "text": [
            "<class 'range'>\n"
          ]
        }
      ]
    },
    {
      "cell_type": "markdown",
      "source": [
        "Por lo que su uso es *casi exclusivamente* en un ciclo."
      ],
      "metadata": {
        "id": "Wlbh-85Qj8v7"
      }
    },
    {
      "cell_type": "markdown",
      "source": [
        "## Ciclo while"
      ],
      "metadata": {
        "id": "rxCF7zxQkBao"
      }
    },
    {
      "cell_type": "markdown",
      "source": [
        "El ciclo while en Python es técnicamente igual que el ciclo correspondiente en C. Repitirá el bloque de código indentado mientras cierta condición sea cierta.\n",
        "\n",
        "Es importante señalar que con el ciclo `while`, el usuario es responsable de hacer que en algún momento la condición del while ya no se cumpla para que se garantice que se termina el ciclo, de lo contrario se obtendrá un ciclo *infinito*."
      ],
      "metadata": {
        "id": "n5_RN77WkDzq"
      }
    },
    {
      "cell_type": "markdown",
      "source": [
        "En este caso, haremos una lista de numeros de 0 al 4"
      ],
      "metadata": {
        "id": "eYtWajbhlDmn"
      }
    },
    {
      "cell_type": "code",
      "source": [
        "a = 0\n",
        "while a<5:\n",
        "    print(a)\n",
        "    a+=1"
      ],
      "metadata": {
        "colab": {
          "base_uri": "https://localhost:8080/"
        },
        "id": "SFrNxMrg1V_4",
        "outputId": "e0348251-8b55-46eb-85da-8d7b60986b3c"
      },
      "execution_count": null,
      "outputs": [
        {
          "output_type": "stream",
          "name": "stdout",
          "text": [
            "0\n",
            "1\n",
            "2\n",
            "3\n",
            "4\n"
          ]
        }
      ]
    },
    {
      "cell_type": "markdown",
      "source": [
        "## Break"
      ],
      "metadata": {
        "id": "PvNNEeEZlV46"
      }
    },
    {
      "cell_type": "markdown",
      "source": [
        "Podemos controlar la terminación del ciclo con la instrucción `break`. Cuando Python encuentre esta instrucción, detendrá el ciclo while (y for) que se esté ejecutando en ese momento."
      ],
      "metadata": {
        "id": "BEQXiXqklGdX"
      }
    },
    {
      "cell_type": "code",
      "source": [
        "a = 0\n",
        "while True:\n",
        "    print(a)\n",
        "    if a==5:\n",
        "        break\n",
        "    a+=1"
      ],
      "metadata": {
        "colab": {
          "base_uri": "https://localhost:8080/"
        },
        "id": "91eoSwVb1pI8",
        "outputId": "74219d28-4c3a-476e-b5af-5d01b2696d8d"
      },
      "execution_count": null,
      "outputs": [
        {
          "output_type": "stream",
          "name": "stdout",
          "text": [
            "0\n",
            "1\n",
            "2\n",
            "3\n",
            "4\n",
            "5\n"
          ]
        }
      ]
    },
    {
      "cell_type": "markdown",
      "source": [
        "## Continue\n",
        "\n",
        "La instrucción `continue` sirve para que la iteración actual se detenga en ese momento y avance a la siguiente iteración sin importar que haya aun código que ejecutar, dicho de otro modo, termina la iteración actual y salga a la siguiente."
      ],
      "metadata": {
        "id": "zvIb79VqlZFw"
      }
    },
    {
      "cell_type": "code",
      "source": [
        "for i in range(5):\n",
        "    if i==3:\n",
        "        continue\n",
        "    print(i)"
      ],
      "metadata": {
        "colab": {
          "base_uri": "https://localhost:8080/"
        },
        "id": "8ATiYBmj2Rhz",
        "outputId": "79760e2f-0f90-4048-f079-338e57ef4a15"
      },
      "execution_count": null,
      "outputs": [
        {
          "output_type": "stream",
          "name": "stdout",
          "text": [
            "0\n",
            "1\n",
            "2\n",
            "4\n"
          ]
        }
      ]
    },
    {
      "cell_type": "markdown",
      "source": [
        "# Colecciones de elementos"
      ],
      "metadata": {
        "id": "lPFNayDbloi4"
      }
    },
    {
      "cell_type": "markdown",
      "source": [
        "En Python, las colecciones permiten almacenar y organizar múltiples elementos en una sola estructura. Estas colecciones pueden variar en cuanto a sus propiedades, como el orden, la mutabilidad y la capacidad de almacenar duplicados. Las principales colecciones de Python incluyen:\n",
        "\n",
        "- Listas (`list`): Son colecciones ordenadas y mutables, lo que significa que puedes modificar los elementos después de su creación. Permiten elementos duplicados.\n",
        "\n",
        "- Tuplas (`tuple`): Son similares a las listas, pero son inmutables, es decir, no se pueden modificar una vez creadas. También son ordenadas y permiten duplicados.\n",
        "\n",
        "- Conjuntos (`set`): Son colecciones no ordenadas y mutables, pero no permiten elementos duplicados. Se usan comúnmente para eliminar duplicados de una lista y realizar operaciones de teoría de conjuntos.\n",
        "\n",
        "Cada tipo de colección tiene sus propias características y usos según las necesidades de tu programa, permitiéndote manejar y procesar datos de diversas maneras."
      ],
      "metadata": {
        "id": "qufz1wwVofQZ"
      }
    },
    {
      "cell_type": "markdown",
      "source": [
        "## Listas"
      ],
      "metadata": {
        "id": "VKqIDz1ho8sj"
      }
    },
    {
      "cell_type": "markdown",
      "source": [
        "Una lista en Python es una colección ordenada y mutable que permite almacenar múltiples elementos en una sola variable. Las listas pueden contener elementos de cualquier tipo de dato, como números, cadenas, o incluso otras listas.\n",
        "\n",
        "Una de las características más importantes de las listas es que puedes modificar su contenido después de crearlas (agregar, eliminar o cambiar elementos), lo que las hace muy flexibles. Además, las listas permiten elementos duplicados, lo que significa que un mismo valor puede aparecer más de una vez.\n",
        "\n",
        "Las listas se definen utilizando corchetes `[]` y los elementos se separan por comas."
      ],
      "metadata": {
        "id": "WcIQF6UOpPZn"
      }
    },
    {
      "cell_type": "code",
      "source": [
        "lista1 = [1,2,3,4,5]\n",
        "lista2 = ['a','b','c','d','e']\n",
        "lista3 = [1,2,'a',True, 1.1,'hola'] # False"
      ],
      "metadata": {
        "id": "_-RbIazx3LmZ"
      },
      "execution_count": null,
      "outputs": []
    },
    {
      "cell_type": "code",
      "source": [
        "print(lista1)\n",
        "print(lista2)\n",
        "print(lista3)"
      ],
      "metadata": {
        "colab": {
          "base_uri": "https://localhost:8080/"
        },
        "id": "ciHNFuYk32ia",
        "outputId": "67146346-c716-4327-ee0e-d1c193d05b37"
      },
      "execution_count": null,
      "outputs": [
        {
          "output_type": "stream",
          "name": "stdout",
          "text": [
            "[1, 2, 3, 4, 5]\n",
            "['a', 'b', 'c', 'd', 'e']\n",
            "[1, 2, 'a', True, 1.1, 'hola']\n"
          ]
        }
      ]
    },
    {
      "cell_type": "markdown",
      "source": [
        "Los elementos de una lista se pueden iterar con un ciclo for de manera rápida"
      ],
      "metadata": {
        "id": "E9qwBIRfpUkp"
      }
    },
    {
      "cell_type": "code",
      "source": [
        "for i in lista3:\n",
        "    print(i)"
      ],
      "metadata": {
        "colab": {
          "base_uri": "https://localhost:8080/"
        },
        "id": "QefYu2b04HO1",
        "outputId": "b9286c09-8141-4530-c1f8-4c6b227faf07"
      },
      "execution_count": null,
      "outputs": [
        {
          "output_type": "stream",
          "name": "stdout",
          "text": [
            "1\n",
            "2\n",
            "a\n",
            "True\n",
            "1.1\n",
            "hola\n"
          ]
        }
      ]
    },
    {
      "cell_type": "markdown",
      "source": [
        "Igualmente se puede acceder a sus elementos por medio de los índices de los elementos. En Python, el primer elemento tiene el índice 0"
      ],
      "metadata": {
        "id": "ywputIwwpj7P"
      }
    },
    {
      "cell_type": "code",
      "source": [
        "lista3[0]"
      ],
      "metadata": {
        "colab": {
          "base_uri": "https://localhost:8080/"
        },
        "id": "gS8iLJWF4Xwh",
        "outputId": "0fadcf7f-e084-425d-9dbc-acf61948c6e2"
      },
      "execution_count": null,
      "outputs": [
        {
          "output_type": "execute_result",
          "data": {
            "text/plain": [
              "1"
            ]
          },
          "metadata": {},
          "execution_count": 28
        }
      ]
    },
    {
      "cell_type": "code",
      "source": [
        "lista3[3]"
      ],
      "metadata": {
        "colab": {
          "base_uri": "https://localhost:8080/"
        },
        "id": "fdbHMVhX4vD1",
        "outputId": "7a1b3ac0-d5b0-418e-baf9-bc23870cfe74"
      },
      "execution_count": null,
      "outputs": [
        {
          "output_type": "execute_result",
          "data": {
            "text/plain": [
              "True"
            ]
          },
          "metadata": {},
          "execution_count": 29
        }
      ]
    },
    {
      "cell_type": "markdown",
      "source": [
        "### Operaciones con listas"
      ],
      "metadata": {
        "id": "KYWP00pXpvBo"
      }
    },
    {
      "cell_type": "markdown",
      "source": [
        "Hay ciertas operaciones que se pueden realizar con las listas. Una de ellas es la suma, pero no es la suma usual a la que estamos acostumbrados con vectores (elemento más elemento), la suma con listas concatenará las listas una tras otra."
      ],
      "metadata": {
        "id": "5AGZsSxfpyBi"
      }
    },
    {
      "cell_type": "code",
      "source": [
        "lista1 + lista2"
      ],
      "metadata": {
        "colab": {
          "base_uri": "https://localhost:8080/"
        },
        "id": "PiKdUi3o4zVl",
        "outputId": "15427483-8bcd-4a5a-f5fe-d1de4b3a0f38"
      },
      "execution_count": null,
      "outputs": [
        {
          "output_type": "execute_result",
          "data": {
            "text/plain": [
              "[1, 2, 3, 4, 5, 'a', 'b', 'c', 'd', 'e']"
            ]
          },
          "metadata": {},
          "execution_count": 30
        }
      ]
    },
    {
      "cell_type": "markdown",
      "source": [
        "Igualmente, las listas pueden ser multiplicadas por un escalar (entero) que hará que la lista sea repetida tantas veces según el escalar."
      ],
      "metadata": {
        "id": "2g3aM0Ar3icR"
      }
    },
    {
      "cell_type": "code",
      "source": [
        "lista1 * 3"
      ],
      "metadata": {
        "colab": {
          "base_uri": "https://localhost:8080/"
        },
        "id": "RZQLGKfr5BQy",
        "outputId": "a698e33b-24b1-49ce-f71d-428525982582"
      },
      "execution_count": null,
      "outputs": [
        {
          "output_type": "execute_result",
          "data": {
            "text/plain": [
              "[1, 2, 3, 4, 5, 1, 2, 3, 4, 5, 1, 2, 3, 4, 5]"
            ]
          },
          "metadata": {},
          "execution_count": 31
        }
      ]
    },
    {
      "cell_type": "markdown",
      "source": [
        "Notesé que la mulitplicación entre listas no es posible"
      ],
      "metadata": {
        "id": "-t0kgaeF3rI4"
      }
    },
    {
      "cell_type": "code",
      "source": [
        "lista1 * lista1"
      ],
      "metadata": {
        "colab": {
          "base_uri": "https://localhost:8080/",
          "height": 141
        },
        "id": "bLcAUrE15FUs",
        "outputId": "5b4560f0-a647-4b0c-9bae-21d61f7865b6"
      },
      "execution_count": null,
      "outputs": [
        {
          "output_type": "error",
          "ename": "TypeError",
          "evalue": "can't multiply sequence by non-int of type 'list'",
          "traceback": [
            "\u001b[0;31m---------------------------------------------------------------------------\u001b[0m",
            "\u001b[0;31mTypeError\u001b[0m                                 Traceback (most recent call last)",
            "\u001b[0;32m<ipython-input-32-3269c077d24f>\u001b[0m in \u001b[0;36m<cell line: 1>\u001b[0;34m()\u001b[0m\n\u001b[0;32m----> 1\u001b[0;31m \u001b[0mlista1\u001b[0m \u001b[0;34m*\u001b[0m \u001b[0mlista1\u001b[0m\u001b[0;34m\u001b[0m\u001b[0;34m\u001b[0m\u001b[0m\n\u001b[0m",
            "\u001b[0;31mTypeError\u001b[0m: can't multiply sequence by non-int of type 'list'"
          ]
        }
      ]
    },
    {
      "cell_type": "markdown",
      "source": [
        "Entonces, como podriamos hacer una suma de listas como estamos acostumbrado con los vectores. Recordemos que si sumamos dos listas, estas se concatenarán"
      ],
      "metadata": {
        "id": "-1AQUl2n3vja"
      }
    },
    {
      "cell_type": "code",
      "source": [
        "lista1 + lista1"
      ],
      "metadata": {
        "colab": {
          "base_uri": "https://localhost:8080/"
        },
        "id": "6pl6-zBs5PJD",
        "outputId": "76e42c81-bb43-4c1f-db6a-f510e64994b1"
      },
      "execution_count": null,
      "outputs": [
        {
          "output_type": "execute_result",
          "data": {
            "text/plain": [
              "[1, 2, 3, 4, 5, 1, 2, 3, 4, 5]"
            ]
          },
          "metadata": {},
          "execution_count": 33
        }
      ]
    },
    {
      "cell_type": "markdown",
      "source": [
        "Para realizar la suma elemento a elemento tenemos que acceder a los elementos de las, esto puede hacerse con un ciclo for:"
      ],
      "metadata": {
        "id": "ue87JL0P334i"
      }
    },
    {
      "cell_type": "code",
      "source": [
        "for i in lista1:\n",
        "    print(i)\n"
      ],
      "metadata": {
        "colab": {
          "base_uri": "https://localhost:8080/"
        },
        "id": "cPJivR9h5VIU",
        "outputId": "7611414d-c8e0-4f8d-b3c7-665cd548158e"
      },
      "execution_count": null,
      "outputs": [
        {
          "output_type": "stream",
          "name": "stdout",
          "text": [
            "1\n",
            "2\n",
            "3\n",
            "4\n",
            "5\n"
          ]
        }
      ]
    },
    {
      "cell_type": "markdown",
      "source": [
        "Entonces, si sabemos que ambas listas, tienen el mismo número de elementos, podemos acceder a cada elemento de ambas listas y sumarlos."
      ],
      "metadata": {
        "id": "vha1jAG04b8_"
      }
    },
    {
      "cell_type": "code",
      "source": [
        "for i in range(5):\n",
        "    print(lista1[i]+lista1[i])"
      ],
      "metadata": {
        "colab": {
          "base_uri": "https://localhost:8080/"
        },
        "id": "a4DdHEVa5hrA",
        "outputId": "545e124f-e9d0-4d1a-ddf7-e49e0e650f50"
      },
      "execution_count": null,
      "outputs": [
        {
          "output_type": "stream",
          "name": "stdout",
          "text": [
            "2\n",
            "4\n",
            "6\n",
            "8\n",
            "10\n"
          ]
        }
      ]
    },
    {
      "cell_type": "markdown",
      "source": [
        "Podríamos intentar iterar ambas listas al mismo tiempo con un ciclo for"
      ],
      "metadata": {
        "id": "Pe9dgZoG4lXD"
      }
    },
    {
      "cell_type": "code",
      "source": [
        "for n1 in lista1, lista1:\n",
        "    print(n1)"
      ],
      "metadata": {
        "colab": {
          "base_uri": "https://localhost:8080/"
        },
        "id": "jC7oHGMv5vik",
        "outputId": "f5f3f29f-20da-45c2-821d-cdf8bf944318"
      },
      "execution_count": null,
      "outputs": [
        {
          "output_type": "stream",
          "name": "stdout",
          "text": [
            "[1, 2, 3, 4, 5]\n",
            "[1, 2, 3, 4, 5]\n"
          ]
        }
      ]
    },
    {
      "cell_type": "markdown",
      "source": [
        "Pero esto tomara como que queremos iterar la lista1 y la lista1, es decir, el for tomara que la secuencia de datos es `[lista1, lista1]`, por lo que en la primera iteración tendremos a la lista1 y en la segunda iteración a la lista1 de nuevo."
      ],
      "metadata": {
        "id": "tmCt8Yjd4qem"
      }
    },
    {
      "cell_type": "markdown",
      "source": [
        "\n",
        "Para realizar la iteración de ambas listas al mismo tiempo, podemos utilizar la función zip"
      ],
      "metadata": {
        "id": "Jf8DLYeW5ANq"
      }
    },
    {
      "cell_type": "code",
      "source": [
        "for n1, n2 in zip(lista1, lista1):\n",
        "    print(n1+n2)"
      ],
      "metadata": {
        "colab": {
          "base_uri": "https://localhost:8080/"
        },
        "id": "zxOCGwpO5Dn7",
        "outputId": "51ac6c59-c42b-4ea9-aac0-298736171992"
      },
      "execution_count": null,
      "outputs": [
        {
          "output_type": "stream",
          "name": "stdout",
          "text": [
            "2\n",
            "4\n",
            "6\n",
            "8\n",
            "10\n"
          ]
        }
      ]
    },
    {
      "cell_type": "markdown",
      "source": [
        "Esto hará que se tengan la iteración de ambas listas al mismo tiempo, logrando la suma elemento a elemento usual."
      ],
      "metadata": {
        "id": "9Q7eS2m25FZV"
      }
    },
    {
      "cell_type": "markdown",
      "source": [
        "Pero podemos incluso iterar listas que no sean del mismo tamaño, dado que se tomará como referencia a la lista de menor tamaño"
      ],
      "metadata": {
        "id": "EPfdwNLi5SJ_"
      }
    },
    {
      "cell_type": "code",
      "source": [
        "lista4 = [10,11,12,13,14,15,16,17]"
      ],
      "metadata": {
        "id": "-M76wmoK6sit"
      },
      "execution_count": null,
      "outputs": []
    },
    {
      "cell_type": "code",
      "source": [
        "for n1, n2 in zip(lista1, lista4):\n",
        "    print(n1+n2)"
      ],
      "metadata": {
        "colab": {
          "base_uri": "https://localhost:8080/"
        },
        "id": "-GvdszcL6I8f",
        "outputId": "58e76a40-c5c7-49c9-dcfc-41a8891ac9d9"
      },
      "execution_count": null,
      "outputs": [
        {
          "output_type": "stream",
          "name": "stdout",
          "text": [
            "11\n",
            "13\n",
            "15\n",
            "17\n",
            "19\n"
          ]
        }
      ]
    },
    {
      "cell_type": "markdown",
      "source": [
        "### Operaciones varias"
      ],
      "metadata": {
        "id": "L-AL95Gf5cR8"
      }
    },
    {
      "cell_type": "markdown",
      "source": [
        "Además de las operaciones *aritméticas* tenemos otro tipo de operaciones. Tengamos una lista"
      ],
      "metadata": {
        "id": "QestT4P56CIy"
      }
    },
    {
      "cell_type": "code",
      "source": [
        "lista1=[1,2,3,4,5]\n",
        "print(lista1)"
      ],
      "metadata": {
        "colab": {
          "base_uri": "https://localhost:8080/"
        },
        "id": "vabNT3i07pTo",
        "outputId": "8dcf3167-acec-4f6c-dca5-7e7e5dc49fb9"
      },
      "execution_count": null,
      "outputs": [
        {
          "output_type": "stream",
          "name": "stdout",
          "text": [
            "[1, 2, 3, 4, 5]\n"
          ]
        }
      ]
    },
    {
      "cell_type": "markdown",
      "source": [
        "Podemos agregar elementos con la \"propiedad\" (aunque después veremos que es un método) `append()`. Esto agregará el elemento que le indiquemos al final."
      ],
      "metadata": {
        "id": "RRDsrH6W6Hbo"
      }
    },
    {
      "cell_type": "code",
      "source": [
        "lista1.append(6)\n",
        "print(lista1)"
      ],
      "metadata": {
        "colab": {
          "base_uri": "https://localhost:8080/"
        },
        "id": "TSHvHTh871Ua",
        "outputId": "4c768032-d923-4441-dcf8-4cf9891f1ed7"
      },
      "execution_count": null,
      "outputs": [
        {
          "output_type": "stream",
          "name": "stdout",
          "text": [
            "[1, 2, 3, 4, 5, 6]\n"
          ]
        }
      ]
    },
    {
      "cell_type": "markdown",
      "source": [
        "Podemos agregar cualquier tipo de elemento a las listas"
      ],
      "metadata": {
        "id": "rytNs_nA6Tg3"
      }
    },
    {
      "cell_type": "code",
      "source": [
        "lista1.append(True)"
      ],
      "metadata": {
        "id": "UfKciCfv8A-1"
      },
      "execution_count": null,
      "outputs": []
    },
    {
      "cell_type": "code",
      "source": [
        "print(lista1)"
      ],
      "metadata": {
        "colab": {
          "base_uri": "https://localhost:8080/"
        },
        "id": "EoPjEDJE8DwZ",
        "outputId": "386afa6b-2836-4a8a-e3d8-1d4cb17c6674"
      },
      "execution_count": null,
      "outputs": [
        {
          "output_type": "stream",
          "name": "stdout",
          "text": [
            "[1, 2, 3, 4, 5, 6, True]\n"
          ]
        }
      ]
    },
    {
      "cell_type": "markdown",
      "source": [
        "Incluso podemos agregar una lista, pero tenemos que remarcar que se agregará la lista como tal y no elemento por elemento."
      ],
      "metadata": {
        "id": "XP2kc0YC6W5W"
      }
    },
    {
      "cell_type": "code",
      "source": [
        "lista1.append([1.1, 'a'])"
      ],
      "metadata": {
        "id": "7luLtKtD8Ff8"
      },
      "execution_count": null,
      "outputs": []
    },
    {
      "cell_type": "code",
      "source": [
        "print(lista1)"
      ],
      "metadata": {
        "colab": {
          "base_uri": "https://localhost:8080/"
        },
        "id": "9DNre3Jv8JMC",
        "outputId": "07c268d2-9b51-4693-b3bd-11f1be70bd63"
      },
      "execution_count": null,
      "outputs": [
        {
          "output_type": "stream",
          "name": "stdout",
          "text": [
            "[1, 2, 3, 4, 5, 6, True, [1.1, 'a']]\n"
          ]
        }
      ]
    },
    {
      "cell_type": "markdown",
      "source": [
        "Igualmente, podemos eliminar un elemento por su valor con la propiedad `remove()`. Esta función buscará el elemento si existe en la lista y lo eliminará."
      ],
      "metadata": {
        "id": "OQAgIhK56cvg"
      }
    },
    {
      "cell_type": "code",
      "source": [
        "lista1.remove(1)\n",
        "print(lista1)"
      ],
      "metadata": {
        "colab": {
          "base_uri": "https://localhost:8080/"
        },
        "id": "XJat23re8T3r",
        "outputId": "b22d205f-7c04-4022-848f-da9723659cce"
      },
      "execution_count": null,
      "outputs": [
        {
          "output_type": "stream",
          "name": "stdout",
          "text": [
            "[2, 3, 4, 5, 6, True, [1.1, 'a']]\n"
          ]
        }
      ]
    },
    {
      "cell_type": "markdown",
      "source": [
        "Si el elemento no existe en la lista, esto indicará un error."
      ],
      "metadata": {
        "id": "RRkrJQXS6oE8"
      }
    },
    {
      "cell_type": "code",
      "source": [
        "lista1.remove(100)\n",
        "print(lista1)"
      ],
      "metadata": {
        "colab": {
          "base_uri": "https://localhost:8080/",
          "height": 159
        },
        "id": "XY1jj-mz8cxQ",
        "outputId": "d4690cda-b754-4fb7-ee49-4a2baf71d85d"
      },
      "execution_count": null,
      "outputs": [
        {
          "output_type": "error",
          "ename": "ValueError",
          "evalue": "list.remove(x): x not in list",
          "traceback": [
            "\u001b[0;31m---------------------------------------------------------------------------\u001b[0m",
            "\u001b[0;31mValueError\u001b[0m                                Traceback (most recent call last)",
            "\u001b[0;32m<ipython-input-57-e004f54d27c9>\u001b[0m in \u001b[0;36m<cell line: 1>\u001b[0;34m()\u001b[0m\n\u001b[0;32m----> 1\u001b[0;31m \u001b[0mlista1\u001b[0m\u001b[0;34m.\u001b[0m\u001b[0mremove\u001b[0m\u001b[0;34m(\u001b[0m\u001b[0;36m100\u001b[0m\u001b[0;34m)\u001b[0m\u001b[0;34m\u001b[0m\u001b[0;34m\u001b[0m\u001b[0m\n\u001b[0m\u001b[1;32m      2\u001b[0m \u001b[0mprint\u001b[0m\u001b[0;34m(\u001b[0m\u001b[0mlista1\u001b[0m\u001b[0;34m)\u001b[0m\u001b[0;34m\u001b[0m\u001b[0;34m\u001b[0m\u001b[0m\n",
            "\u001b[0;31mValueError\u001b[0m: list.remove(x): x not in list"
          ]
        }
      ]
    },
    {
      "cell_type": "markdown",
      "source": [
        "Si hay varios elementos iguales, la función `remove` eliminará al primer elemento."
      ],
      "metadata": {
        "id": "Bbyr4doF6sUk"
      }
    },
    {
      "cell_type": "code",
      "source": [
        "lista6 = [1,1,1,1,1,2]\n",
        "print(lista6)\n",
        "lista6.remove(1)\n",
        "print(lista6)\n"
      ],
      "metadata": {
        "colab": {
          "base_uri": "https://localhost:8080/"
        },
        "id": "dx6wqJkK8j1g",
        "outputId": "87ae59ac-1bca-446e-ac6a-a78951a6f14e"
      },
      "execution_count": null,
      "outputs": [
        {
          "output_type": "stream",
          "name": "stdout",
          "text": [
            "[1, 1, 1, 1, 1, 2]\n",
            "[1, 1, 1, 1, 2]\n"
          ]
        }
      ]
    },
    {
      "cell_type": "markdown",
      "source": [
        "Debemos de tomar en cuenta que `remove` no da como resultado nada, solo borra el valor y ya."
      ],
      "metadata": {
        "id": "0-y3OiIp7kQ7"
      }
    },
    {
      "cell_type": "code",
      "source": [
        "lista6 = [1,1,1,1,1,2]\n",
        "print(lista6)\n",
        "removido = lista6.remove(1)\n",
        "print(lista6)\n",
        "print(removido)"
      ],
      "metadata": {
        "colab": {
          "base_uri": "https://localhost:8080/"
        },
        "id": "PjSDI0Wy8y7y",
        "outputId": "c790a5c3-d70d-4bde-ddfb-cc9171528491"
      },
      "execution_count": null,
      "outputs": [
        {
          "output_type": "stream",
          "name": "stdout",
          "text": [
            "[1, 1, 1, 1, 1, 2]\n",
            "[1, 1, 1, 1, 2]\n",
            "None\n"
          ]
        }
      ]
    },
    {
      "cell_type": "markdown",
      "source": [
        "Sin embargo, la propiedad `pop(n)` eliminará el valor con el índice `n` indicado. Y a diferencia de `remove`, `pop` regresa el valor eliminado."
      ],
      "metadata": {
        "id": "4o54anXX7pjv"
      }
    },
    {
      "cell_type": "code",
      "source": [
        "lista6 = [1,1,1,1,1,2]\n",
        "print(lista6)\n",
        "removido = lista6.pop(0)\n",
        "print(lista6)\n",
        "print(removido)"
      ],
      "metadata": {
        "colab": {
          "base_uri": "https://localhost:8080/"
        },
        "id": "n3lT1W2V8-LS",
        "outputId": "52434c07-1058-474e-b654-7d4c3e72b872"
      },
      "execution_count": null,
      "outputs": [
        {
          "output_type": "stream",
          "name": "stdout",
          "text": [
            "[1, 1, 1, 1, 1, 2]\n",
            "[1, 1, 1, 1, 2]\n",
            "1\n"
          ]
        }
      ]
    },
    {
      "cell_type": "markdown",
      "source": [
        "Otra función importante es `len()` que regresa el número de elementos de la lista que se ponga como argumento."
      ],
      "metadata": {
        "id": "Znrr2PUs71xq"
      }
    },
    {
      "cell_type": "code",
      "source": [
        "lista7 = [1,2,3,4,5]\n",
        "print(lista7)\n",
        "print(len(lista7))"
      ],
      "metadata": {
        "colab": {
          "base_uri": "https://localhost:8080/"
        },
        "id": "atYNV3Gy9NtO",
        "outputId": "0795b6e1-16b2-4b0b-c280-f84dc42b76ea"
      },
      "execution_count": null,
      "outputs": [
        {
          "output_type": "stream",
          "name": "stdout",
          "text": [
            "[1, 2, 3, 4, 5]\n",
            "5\n"
          ]
        }
      ]
    },
    {
      "cell_type": "markdown",
      "source": [
        "Si hay una lista dentro de la lista, la lista solo contará como un elemento."
      ],
      "metadata": {
        "id": "nXSxOUHt78pX"
      }
    },
    {
      "cell_type": "code",
      "source": [
        "lista7 = [1,2,3,4,5,[1,2]]\n",
        "print(lista7)\n",
        "print(len(lista7))"
      ],
      "metadata": {
        "colab": {
          "base_uri": "https://localhost:8080/"
        },
        "id": "lB4BDlSl9bBV",
        "outputId": "ae127c03-0c15-4f4b-db2b-7f0789d6cfbc"
      },
      "execution_count": null,
      "outputs": [
        {
          "output_type": "stream",
          "name": "stdout",
          "text": [
            "[1, 2, 3, 4, 5, [1, 2]]\n",
            "6\n"
          ]
        }
      ]
    },
    {
      "cell_type": "markdown",
      "source": [
        "Otra propiedad importante es `sort()`. Este método ordenará de menor a mayor la lista en cuestión."
      ],
      "metadata": {
        "id": "8TAPOxmX8B27"
      }
    },
    {
      "cell_type": "code",
      "source": [
        "lista9 = [1,7,2,9,11]\n",
        "print(lista9)\n",
        "lista9.sort()\n",
        "print(lista9)"
      ],
      "metadata": {
        "colab": {
          "base_uri": "https://localhost:8080/"
        },
        "id": "1qyXol1W9jI9",
        "outputId": "ed7829f2-9867-491e-ab56-7ca8eac6ebe7"
      },
      "execution_count": null,
      "outputs": [
        {
          "output_type": "stream",
          "name": "stdout",
          "text": [
            "[1, 7, 2, 9, 11]\n",
            "[1, 2, 7, 9, 11]\n"
          ]
        }
      ]
    },
    {
      "cell_type": "markdown",
      "source": [
        "Si se agrega la opción `reverse=True`, lo ordenará en sentido inverso, es decir de mayor a menor."
      ],
      "metadata": {
        "id": "NdL1FPcX8q6E"
      }
    },
    {
      "cell_type": "code",
      "source": [
        "lista9 = [1,7,2,9,11]\n",
        "print(lista9)\n",
        "a = lista9.sort(reverse=True)\n",
        "print(lista9)\n",
        "print(a)"
      ],
      "metadata": {
        "colab": {
          "base_uri": "https://localhost:8080/"
        },
        "id": "szXxt9mV9zf_",
        "outputId": "8723a801-ec4c-4b64-d467-949ef200a75d"
      },
      "execution_count": null,
      "outputs": [
        {
          "output_type": "stream",
          "name": "stdout",
          "text": [
            "[1, 7, 2, 9, 11]\n",
            "[11, 9, 7, 2, 1]\n",
            "None\n"
          ]
        }
      ]
    },
    {
      "cell_type": "markdown",
      "source": [
        "## Tuplas"
      ],
      "metadata": {
        "id": "xVxYkHIb8zxV"
      }
    },
    {
      "cell_type": "markdown",
      "source": [
        "Recordemos que las listas son secuencias de datos mutables, podemos acceder a sus elementos por medio de sus índices (también existen índices negativos)"
      ],
      "metadata": {
        "id": "aE8UgJYb830L"
      }
    },
    {
      "cell_type": "code",
      "source": [
        "lista9 = [1,7,2,9,11]\n",
        "print(lista9[0])\n",
        "print(lista9[-1])\n",
        "print(lista9[-2])"
      ],
      "metadata": {
        "colab": {
          "base_uri": "https://localhost:8080/"
        },
        "id": "j-NPnFqC-H05",
        "outputId": "c3168552-0eaa-40a8-eb6a-5d6025c9b54a"
      },
      "execution_count": null,
      "outputs": [
        {
          "output_type": "stream",
          "name": "stdout",
          "text": [
            "1\n",
            "11\n",
            "9\n"
          ]
        }
      ]
    },
    {
      "cell_type": "markdown",
      "source": [
        "Una tupla en Python es una colección ordenada de elementos, similar a las listas, pero con una diferencia clave: son inmutables. Esto significa que, una vez creadas, no puedes modificar, agregar ni eliminar elementos en una tupla. Las tuplas son ideales cuando necesitas almacenar un conjunto de valores que no deben cambiar durante la ejecución del programa.\n",
        "\n",
        "Al igual que las listas, las tuplas pueden contener elementos de diferentes tipos de datos y permiten duplicados. Se definen usando paréntesis `()` y los elementos se separan por comas.\n",
        "\n"
      ],
      "metadata": {
        "id": "oJeWtCji93Av"
      }
    },
    {
      "cell_type": "code",
      "source": [
        "tupla1 = (1,2,3,4,5)\n",
        "print(tupla1)\n",
        "print(type(tupla1))"
      ],
      "metadata": {
        "colab": {
          "base_uri": "https://localhost:8080/"
        },
        "id": "tnVHJx7s-uqv",
        "outputId": "1735c944-555e-40e4-baf9-a192940dfd3d"
      },
      "execution_count": null,
      "outputs": [
        {
          "output_type": "stream",
          "name": "stdout",
          "text": [
            "(1, 2, 3, 4, 5)\n",
            "<class 'tuple'>\n"
          ]
        }
      ]
    },
    {
      "cell_type": "markdown",
      "source": [
        "Al igual que hacemos con las listas, podemos acceder a los elementos de las tuplas con sus índices"
      ],
      "metadata": {
        "id": "cDp5JVdg99-V"
      }
    },
    {
      "cell_type": "code",
      "source": [
        "tupla1[0]"
      ],
      "metadata": {
        "colab": {
          "base_uri": "https://localhost:8080/"
        },
        "id": "by_psySi-yoh",
        "outputId": "24ca5ad1-cbc9-4b95-9a18-881477518de8"
      },
      "execution_count": null,
      "outputs": [
        {
          "output_type": "execute_result",
          "data": {
            "text/plain": [
              "1"
            ]
          },
          "metadata": {},
          "execution_count": 70
        }
      ]
    },
    {
      "cell_type": "markdown",
      "source": [
        "pero la diferencia es que, mientras a las listas podemos modificarlas, incluso cambiar sus elementos por medio de sus índices"
      ],
      "metadata": {
        "id": "ucobohv--Ebd"
      }
    },
    {
      "cell_type": "code",
      "source": [
        "print(lista1)\n",
        "lista1[0] = 99\n",
        "print(lista1)"
      ],
      "metadata": {
        "colab": {
          "base_uri": "https://localhost:8080/"
        },
        "id": "cry2ZrgX-0Wr",
        "outputId": "e386a477-2d99-428a-8067-779976a448f7"
      },
      "execution_count": null,
      "outputs": [
        {
          "output_type": "stream",
          "name": "stdout",
          "text": [
            "[2, 3, 4, 5, 6, True, [1.1, 'a']]\n",
            "[99, 3, 4, 5, 6, True, [1.1, 'a']]\n"
          ]
        }
      ]
    },
    {
      "cell_type": "markdown",
      "source": [
        "Con las tuplas no podemos realizar tal cambio"
      ],
      "metadata": {
        "id": "NY40f6tt-Ks1"
      }
    },
    {
      "cell_type": "code",
      "source": [
        "tupla1 = (1,2,3,4,5)\n",
        "print(tupla1)\n",
        "tupla1[0] = 99\n",
        "print(tupla1)"
      ],
      "metadata": {
        "colab": {
          "base_uri": "https://localhost:8080/",
          "height": 211
        },
        "id": "UQFMlgUW_AkB",
        "outputId": "df95abe6-5d9c-4b9d-88cf-bf68abeb28ea"
      },
      "execution_count": null,
      "outputs": [
        {
          "output_type": "stream",
          "name": "stdout",
          "text": [
            "(1, 2, 3, 4, 5)\n"
          ]
        },
        {
          "output_type": "error",
          "ename": "TypeError",
          "evalue": "'tuple' object does not support item assignment",
          "traceback": [
            "\u001b[0;31m---------------------------------------------------------------------------\u001b[0m",
            "\u001b[0;31mTypeError\u001b[0m                                 Traceback (most recent call last)",
            "\u001b[0;32m<ipython-input-5-f9861887337c>\u001b[0m in \u001b[0;36m<cell line: 3>\u001b[0;34m()\u001b[0m\n\u001b[1;32m      1\u001b[0m \u001b[0mtupla1\u001b[0m \u001b[0;34m=\u001b[0m \u001b[0;34m(\u001b[0m\u001b[0;36m1\u001b[0m\u001b[0;34m,\u001b[0m\u001b[0;36m2\u001b[0m\u001b[0;34m,\u001b[0m\u001b[0;36m3\u001b[0m\u001b[0;34m,\u001b[0m\u001b[0;36m4\u001b[0m\u001b[0;34m,\u001b[0m\u001b[0;36m5\u001b[0m\u001b[0;34m)\u001b[0m\u001b[0;34m\u001b[0m\u001b[0;34m\u001b[0m\u001b[0m\n\u001b[1;32m      2\u001b[0m \u001b[0mprint\u001b[0m\u001b[0;34m(\u001b[0m\u001b[0mtupla1\u001b[0m\u001b[0;34m)\u001b[0m\u001b[0;34m\u001b[0m\u001b[0;34m\u001b[0m\u001b[0m\n\u001b[0;32m----> 3\u001b[0;31m \u001b[0mtupla1\u001b[0m\u001b[0;34m[\u001b[0m\u001b[0;36m0\u001b[0m\u001b[0;34m]\u001b[0m \u001b[0;34m=\u001b[0m \u001b[0;36m99\u001b[0m\u001b[0;34m\u001b[0m\u001b[0;34m\u001b[0m\u001b[0m\n\u001b[0m\u001b[1;32m      4\u001b[0m \u001b[0mprint\u001b[0m\u001b[0;34m(\u001b[0m\u001b[0mtupla1\u001b[0m\u001b[0;34m)\u001b[0m\u001b[0;34m\u001b[0m\u001b[0;34m\u001b[0m\u001b[0m\n",
            "\u001b[0;31mTypeError\u001b[0m: 'tuple' object does not support item assignment"
          ]
        }
      ]
    },
    {
      "cell_type": "markdown",
      "source": [
        "Igualmente, no podemos agregar, quitar o modificar de ninguna manera sus elementos. Para realizar cambios, tenemos que redefinirlas de nuevo."
      ],
      "metadata": {
        "id": "U_EL28bY-YUP"
      }
    },
    {
      "cell_type": "code",
      "source": [],
      "metadata": {
        "id": "G-6sm9M7-f1p"
      },
      "execution_count": null,
      "outputs": []
    }
  ]
}