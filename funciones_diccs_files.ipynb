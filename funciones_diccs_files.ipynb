{
  "nbformat": 4,
  "nbformat_minor": 0,
  "metadata": {
    "colab": {
      "provenance": [],
      "toc_visible": true,
      "authorship_tag": "ABX9TyN8mj7LOubVV4AuBLIlt5Iw",
      "include_colab_link": true
    },
    "kernelspec": {
      "name": "python3",
      "display_name": "Python 3"
    },
    "language_info": {
      "name": "python"
    }
  },
  "cells": [
    {
      "cell_type": "markdown",
      "metadata": {
        "id": "view-in-github",
        "colab_type": "text"
      },
      "source": [
        "<a href=\"https://colab.research.google.com/github/cespinosafc/computation_notes/blob/main/funciones_diccs_files.ipynb\" target=\"_parent\"><img src=\"https://colab.research.google.com/assets/colab-badge.svg\" alt=\"Open In Colab\"/></a>"
      ]
    },
    {
      "cell_type": "markdown",
      "source": [
        "# Conjuntos"
      ],
      "metadata": {
        "id": "M2o277x6vCWE"
      }
    },
    {
      "cell_type": "markdown",
      "source": [
        "Un **conjunto** en Python es una colección desordenada y mutable de elementos únicos. A diferencia de las listas o tuplas, un conjunto no permite elementos duplicados. Los conjuntos son útiles cuando necesitas almacenar y gestionar elementos únicos sin preocuparte por el orden.\n",
        "\n",
        "Características principales:\n",
        "- No tienen orden: Los elementos de un conjunto no están indexados, por lo que no se puede acceder a ellos usando índices.\n",
        "- Elementos únicos: Un conjunto no permite duplicados; si intentas agregar un elemento que ya existe, no lo añadirá de nuevo.\n",
        "- Mutabilidad: Aunque los conjuntos son mutables (pueden modificarse), los elementos que contiene deben ser inmutables (por ejemplo, números, strings o tuplas)."
      ],
      "metadata": {
        "id": "N1q7lPpAvWvR"
      }
    },
    {
      "cell_type": "markdown",
      "source": [
        "## Creación de conjuntos\n",
        "\n",
        "Se puede crear un conjunto usando llaves `{}` o la función `set()`"
      ],
      "metadata": {
        "id": "NpY99WtzvolG"
      }
    },
    {
      "cell_type": "code",
      "source": [
        "set1 = {1,2,3,4,5,6}"
      ],
      "metadata": {
        "id": "hlvbl-OJeowE"
      },
      "execution_count": null,
      "outputs": []
    },
    {
      "cell_type": "markdown",
      "source": [
        "Al ser una colección de elementos desordenados, no se puede acceder a sus elementos por su índice"
      ],
      "metadata": {
        "id": "nxAjMqqWv-0l"
      }
    },
    {
      "cell_type": "code",
      "source": [
        "set1[1]"
      ],
      "metadata": {
        "colab": {
          "base_uri": "https://localhost:8080/",
          "height": 141
        },
        "id": "c8UfWKG-gQAx",
        "outputId": "8d26cf30-6a76-4b84-f8c5-39f6c6ab5b03"
      },
      "execution_count": null,
      "outputs": [
        {
          "output_type": "error",
          "ename": "TypeError",
          "evalue": "'set' object is not subscriptable",
          "traceback": [
            "\u001b[0;31m---------------------------------------------------------------------------\u001b[0m",
            "\u001b[0;31mTypeError\u001b[0m                                 Traceback (most recent call last)",
            "\u001b[0;32m<ipython-input-3-d27c0eee2e56>\u001b[0m in \u001b[0;36m<cell line: 1>\u001b[0;34m()\u001b[0m\n\u001b[0;32m----> 1\u001b[0;31m \u001b[0mset1\u001b[0m\u001b[0;34m[\u001b[0m\u001b[0;36m1\u001b[0m\u001b[0;34m]\u001b[0m\u001b[0;34m\u001b[0m\u001b[0;34m\u001b[0m\u001b[0m\n\u001b[0m",
            "\u001b[0;31mTypeError\u001b[0m: 'set' object is not subscriptable"
          ]
        }
      ]
    },
    {
      "cell_type": "markdown",
      "source": [
        "Tampoco permiten elementos repetidos"
      ],
      "metadata": {
        "id": "cPIij9U1wNii"
      }
    },
    {
      "cell_type": "code",
      "source": [
        "set2 = {1,1,2,3,4,5}\n",
        "print(set2)"
      ],
      "metadata": {
        "colab": {
          "base_uri": "https://localhost:8080/"
        },
        "id": "tph6Kod0gSS2",
        "outputId": "19bf4f60-9d66-4c39-b522-09c62ca766f2"
      },
      "execution_count": null,
      "outputs": [
        {
          "output_type": "stream",
          "name": "stdout",
          "text": [
            "{1, 2, 3, 4, 5}\n"
          ]
        }
      ]
    },
    {
      "cell_type": "markdown",
      "source": [
        "Pero si se puede iterar sus elementos con un ciclo"
      ],
      "metadata": {
        "id": "oIv4-RGCwS2J"
      }
    },
    {
      "cell_type": "code",
      "source": [
        "for i in set2:\n",
        "    print(i)"
      ],
      "metadata": {
        "colab": {
          "base_uri": "https://localhost:8080/"
        },
        "id": "OM8rbjQYgfz0",
        "outputId": "26d487c7-46d9-454d-f3df-4dc11556698e"
      },
      "execution_count": null,
      "outputs": [
        {
          "output_type": "stream",
          "name": "stdout",
          "text": [
            "1\n",
            "2\n",
            "3\n",
            "4\n",
            "5\n"
          ]
        }
      ]
    },
    {
      "cell_type": "markdown",
      "source": [
        "Igualmente se puede cambiar a una lista usando la función `list()`"
      ],
      "metadata": {
        "id": "k-VNN8qDwV2Y"
      }
    },
    {
      "cell_type": "code",
      "source": [
        "list(set2)"
      ],
      "metadata": {
        "colab": {
          "base_uri": "https://localhost:8080/"
        },
        "id": "7IsvoXj-gu9O",
        "outputId": "45099b20-ccc6-48b9-f22f-43ded7f53a12"
      },
      "execution_count": null,
      "outputs": [
        {
          "output_type": "execute_result",
          "data": {
            "text/plain": [
              "[1, 2, 3, 4, 5]"
            ]
          },
          "metadata": {},
          "execution_count": 5
        }
      ]
    },
    {
      "cell_type": "markdown",
      "source": [
        "O a una tupla usando la función `tuple()`"
      ],
      "metadata": {
        "id": "1uyXesaBwZ5f"
      }
    },
    {
      "cell_type": "code",
      "source": [
        "tuple(set2)"
      ],
      "metadata": {
        "colab": {
          "base_uri": "https://localhost:8080/"
        },
        "id": "H13t4FV6hDId",
        "outputId": "d8f43c40-7c02-46f8-e0a9-e62d3449ac61"
      },
      "execution_count": null,
      "outputs": [
        {
          "output_type": "execute_result",
          "data": {
            "text/plain": [
              "(1, 2, 3, 4, 5)"
            ]
          },
          "metadata": {},
          "execution_count": 7
        }
      ]
    },
    {
      "cell_type": "markdown",
      "source": [
        "## Operaciones con conjuntos"
      ],
      "metadata": {
        "id": "xXfYdMrrwgR1"
      }
    },
    {
      "cell_type": "markdown",
      "source": [
        "Se puede comprobar que un elemento se encuentra en alguna secuencia de elementos, por ejemplo tengamos la lista"
      ],
      "metadata": {
        "id": "wl_kckcdwjhn"
      }
    },
    {
      "cell_type": "code",
      "source": [
        "lista = [1,2,3,4,5,6,7,8,9]\n"
      ],
      "metadata": {
        "id": "KGyKCI9ehFP4"
      },
      "execution_count": null,
      "outputs": []
    },
    {
      "cell_type": "markdown",
      "source": [
        "Con el comando `in` podemos comprar si un elemento pertenece a la lista"
      ],
      "metadata": {
        "id": "kifZwjAPwo_Z"
      }
    },
    {
      "cell_type": "code",
      "source": [
        "1 in lista"
      ],
      "metadata": {
        "colab": {
          "base_uri": "https://localhost:8080/"
        },
        "id": "rdJH6A3ihinP",
        "outputId": "f87cfdb6-e0c5-4f5b-b80e-ee522ed72a10"
      },
      "execution_count": null,
      "outputs": [
        {
          "output_type": "execute_result",
          "data": {
            "text/plain": [
              "True"
            ]
          },
          "metadata": {},
          "execution_count": 10
        }
      ]
    },
    {
      "cell_type": "markdown",
      "source": [
        "A un conjunto"
      ],
      "metadata": {
        "id": "qpdBVYaJwzGs"
      }
    },
    {
      "cell_type": "code",
      "source": [
        "1 in set2"
      ],
      "metadata": {
        "colab": {
          "base_uri": "https://localhost:8080/"
        },
        "id": "q7zwge_XhgUI",
        "outputId": "1d78fb00-b52b-4925-a8e3-1b05ddfddb17"
      },
      "execution_count": null,
      "outputs": [
        {
          "output_type": "execute_result",
          "data": {
            "text/plain": [
              "True"
            ]
          },
          "metadata": {},
          "execution_count": 9
        }
      ]
    },
    {
      "cell_type": "markdown",
      "source": [
        "O incluso a una tupla"
      ],
      "metadata": {
        "id": "TRfh4vPaw3EH"
      }
    },
    {
      "cell_type": "code",
      "source": [
        "tupple = (1,2,3,4,5)\n",
        "print(1 in tupple)"
      ],
      "metadata": {
        "colab": {
          "base_uri": "https://localhost:8080/"
        },
        "id": "hk_e1Li8hkx5",
        "outputId": "68ad7d09-e830-4a0d-b28d-ee1a8064f351"
      },
      "execution_count": null,
      "outputs": [
        {
          "output_type": "stream",
          "name": "stdout",
          "text": [
            "True\n"
          ]
        }
      ]
    },
    {
      "cell_type": "markdown",
      "source": [
        "# Slicing en listas"
      ],
      "metadata": {
        "id": "fxZedJJtw5b8"
      }
    },
    {
      "cell_type": "markdown",
      "source": [
        "En Python, las listas permiten acceder a sus elementos a través de la **indexación** y realizar **slicing** para obtener subconjuntos de elementos. La indexación te permite acceder a un solo elemento dentro de la lista usando su posición, mientras que el slicing te permite obtener una porción de la lista especificando un rango de índices. Ambos mecanismos son esenciales para manipular y extraer información de listas de manera eficiente, brindando flexibilidad y control sobre los datos. Además, la indexación puede ser tanto positiva como negativa, lo que facilita el acceso a los elementos desde el principio o desde el final de la lista.\n",
        "\n"
      ],
      "metadata": {
        "id": "nY8hyx4XxeOb"
      }
    },
    {
      "cell_type": "markdown",
      "source": [
        "Sabemos que podemos acceder a los elementos de una lista por sus índices"
      ],
      "metadata": {
        "id": "iA2RAmvIxgdQ"
      }
    },
    {
      "cell_type": "code",
      "source": [
        "lista[5]"
      ],
      "metadata": {
        "colab": {
          "base_uri": "https://localhost:8080/"
        },
        "id": "qSLOzFQkh0Io",
        "outputId": "dd3ff542-3150-4bfa-e9e3-08400e4850d0"
      },
      "execution_count": null,
      "outputs": [
        {
          "output_type": "execute_result",
          "data": {
            "text/plain": [
              "6"
            ]
          },
          "metadata": {},
          "execution_count": 12
        }
      ]
    },
    {
      "cell_type": "code",
      "source": [
        "lista[0]"
      ],
      "metadata": {
        "colab": {
          "base_uri": "https://localhost:8080/"
        },
        "id": "DMkoYg2diNFg",
        "outputId": "5b9acd8b-af1e-42ac-d45e-54c2b32e6110"
      },
      "execution_count": null,
      "outputs": [
        {
          "output_type": "execute_result",
          "data": {
            "text/plain": [
              "1"
            ]
          },
          "metadata": {},
          "execution_count": 13
        }
      ]
    },
    {
      "cell_type": "markdown",
      "source": [
        "Podemos usar índices negativos para acceder a los elementos iniciando por los últimos"
      ],
      "metadata": {
        "id": "8cv9GYfcxmuU"
      }
    },
    {
      "cell_type": "code",
      "source": [
        "lista[-1]"
      ],
      "metadata": {
        "colab": {
          "base_uri": "https://localhost:8080/"
        },
        "id": "jrRxJuDRiOqV",
        "outputId": "c5fce86b-1d9b-47bd-c308-770487fdee5c"
      },
      "execution_count": null,
      "outputs": [
        {
          "output_type": "execute_result",
          "data": {
            "text/plain": [
              "9"
            ]
          },
          "metadata": {},
          "execution_count": 14
        }
      ]
    },
    {
      "cell_type": "markdown",
      "source": [
        "Pero esto no es cíclico, si tenemos un índice negativo que supera el \"número de elementos\" nos dirá que estamos fuera de rango"
      ],
      "metadata": {
        "id": "irxvHS-4xsRh"
      }
    },
    {
      "cell_type": "code",
      "source": [
        "lista[-99]"
      ],
      "metadata": {
        "colab": {
          "base_uri": "https://localhost:8080/",
          "height": 141
        },
        "id": "iJYmmu1WiThz",
        "outputId": "c3b2d398-1f6d-4287-943e-07cf06bf5b83"
      },
      "execution_count": null,
      "outputs": [
        {
          "output_type": "error",
          "ename": "IndexError",
          "evalue": "list index out of range",
          "traceback": [
            "\u001b[0;31m---------------------------------------------------------------------------\u001b[0m",
            "\u001b[0;31mIndexError\u001b[0m                                Traceback (most recent call last)",
            "\u001b[0;32m<ipython-input-15-2a6f7a2dfd5a>\u001b[0m in \u001b[0;36m<cell line: 1>\u001b[0;34m()\u001b[0m\n\u001b[0;32m----> 1\u001b[0;31m \u001b[0mlista\u001b[0m\u001b[0;34m[\u001b[0m\u001b[0;34m-\u001b[0m\u001b[0;36m99\u001b[0m\u001b[0;34m]\u001b[0m\u001b[0;34m\u001b[0m\u001b[0;34m\u001b[0m\u001b[0m\n\u001b[0m",
            "\u001b[0;31mIndexError\u001b[0m: list index out of range"
          ]
        }
      ]
    },
    {
      "cell_type": "markdown",
      "source": [
        "En este ejemplo, el primer elemento tendrá un índice negativo igual a `-9`"
      ],
      "metadata": {
        "id": "Bx4fCA2_x4vh"
      }
    },
    {
      "cell_type": "code",
      "source": [
        "lista[-9]"
      ],
      "metadata": {
        "colab": {
          "base_uri": "https://localhost:8080/"
        },
        "id": "GImMH-hfia5n",
        "outputId": "a3a6c181-75a3-42b7-d219-9a2b8ed5205d"
      },
      "execution_count": null,
      "outputs": [
        {
          "output_type": "execute_result",
          "data": {
            "text/plain": [
              "1"
            ]
          },
          "metadata": {},
          "execution_count": 16
        }
      ]
    },
    {
      "cell_type": "markdown",
      "source": [
        "Pero si ponemos `-10` ya estaremos fuera de la lista"
      ],
      "metadata": {
        "id": "8jlAt3vcx-a4"
      }
    },
    {
      "cell_type": "code",
      "source": [
        "\n",
        "lista[-10]"
      ],
      "metadata": {
        "colab": {
          "base_uri": "https://localhost:8080/",
          "height": 141
        },
        "id": "FGG6gHjtibxv",
        "outputId": "5dbedb5c-d0e9-4bdf-8621-90a0a570ddc8"
      },
      "execution_count": null,
      "outputs": [
        {
          "output_type": "error",
          "ename": "IndexError",
          "evalue": "list index out of range",
          "traceback": [
            "\u001b[0;31m---------------------------------------------------------------------------\u001b[0m",
            "\u001b[0;31mIndexError\u001b[0m                                Traceback (most recent call last)",
            "\u001b[0;32m<ipython-input-17-5e040fafa97c>\u001b[0m in \u001b[0;36m<cell line: 1>\u001b[0;34m()\u001b[0m\n\u001b[0;32m----> 1\u001b[0;31m \u001b[0mlista\u001b[0m\u001b[0;34m[\u001b[0m\u001b[0;34m-\u001b[0m\u001b[0;36m10\u001b[0m\u001b[0;34m]\u001b[0m\u001b[0;34m\u001b[0m\u001b[0;34m\u001b[0m\u001b[0m\n\u001b[0m",
            "\u001b[0;31mIndexError\u001b[0m: list index out of range"
          ]
        }
      ]
    },
    {
      "cell_type": "markdown",
      "source": [
        "También podemos definir desde que elemento queremos ver y hasta cual queremos llegar (sin tocar el último)"
      ],
      "metadata": {
        "id": "_9RIqWw4yDdV"
      }
    },
    {
      "cell_type": "code",
      "source": [
        "print(lista)\n",
        "print(lista[1:4])"
      ],
      "metadata": {
        "colab": {
          "base_uri": "https://localhost:8080/"
        },
        "id": "bHGKBwtEig62",
        "outputId": "290fbd49-d6b8-4b22-b8ee-2939af13b313"
      },
      "execution_count": null,
      "outputs": [
        {
          "output_type": "stream",
          "name": "stdout",
          "text": [
            "[1, 2, 3, 4, 5, 6, 7, 8, 9]\n",
            "[2, 3, 4]\n"
          ]
        }
      ]
    },
    {
      "cell_type": "markdown",
      "source": [
        "Igualmente podemos incluir un tercer número para ir de 2 en 2, 3 en 3 o *n* en *n* elementos"
      ],
      "metadata": {
        "id": "m6nBFoC6yM-s"
      }
    },
    {
      "cell_type": "code",
      "source": [
        "print(lista)\n",
        "print(lista[1:7:2])"
      ],
      "metadata": {
        "colab": {
          "base_uri": "https://localhost:8080/"
        },
        "id": "zF-Y-czHirHa",
        "outputId": "cef51246-a088-43b6-9fe0-69f0cb68f1dc"
      },
      "execution_count": null,
      "outputs": [
        {
          "output_type": "stream",
          "name": "stdout",
          "text": [
            "[1, 2, 3, 4, 5, 6, 7, 8, 9]\n",
            "[2, 4, 6]\n"
          ]
        }
      ]
    },
    {
      "cell_type": "markdown",
      "source": [
        "Si no ponemos el primer número, nos dará como resultado desde el primer elemento"
      ],
      "metadata": {
        "id": "XDEJ-seMyXtn"
      }
    },
    {
      "cell_type": "code",
      "source": [
        "print(lista[:5])"
      ],
      "metadata": {
        "colab": {
          "base_uri": "https://localhost:8080/"
        },
        "id": "iIPEeYaFi6yN",
        "outputId": "5fd72e5b-4dfb-487b-d468-484b4d7f392a"
      },
      "execution_count": null,
      "outputs": [
        {
          "output_type": "stream",
          "name": "stdout",
          "text": [
            "[1, 2, 3, 4, 5]\n"
          ]
        }
      ]
    },
    {
      "cell_type": "markdown",
      "source": [
        "En los números para establecer los límites, podemos poner índices negativos"
      ],
      "metadata": {
        "id": "TNd59mLAyd1H"
      }
    },
    {
      "cell_type": "code",
      "source": [
        "print(lista[3:-1])"
      ],
      "metadata": {
        "colab": {
          "base_uri": "https://localhost:8080/"
        },
        "id": "PEAvKxBrjD7k",
        "outputId": "d7d4dbe1-7bec-46ff-d37f-d20cfbaef8d9"
      },
      "execution_count": null,
      "outputs": [
        {
          "output_type": "stream",
          "name": "stdout",
          "text": [
            "[4, 5, 6, 7, 8]\n"
          ]
        }
      ]
    },
    {
      "cell_type": "markdown",
      "source": [
        "Igualmente podemos omitir los números y nos dará como resultado el caso por default, es decir, todos los elementos"
      ],
      "metadata": {
        "id": "aSeKL6VnyjJj"
      }
    },
    {
      "cell_type": "code",
      "source": [
        "print(lista[:])"
      ],
      "metadata": {
        "colab": {
          "base_uri": "https://localhost:8080/"
        },
        "id": "ApfcYXqwjJRD",
        "outputId": "e67f79ab-dceb-4b59-9c91-eb2a0674a2e5"
      },
      "execution_count": null,
      "outputs": [
        {
          "output_type": "stream",
          "name": "stdout",
          "text": [
            "[1, 2, 3, 4, 5, 6, 7, 8, 9]\n"
          ]
        }
      ]
    },
    {
      "cell_type": "markdown",
      "source": [
        "Incluso podemos especificar que queremos todos los elementos, pero de 2 en 2"
      ],
      "metadata": {
        "id": "shQPm1rXyn3D"
      }
    },
    {
      "cell_type": "code",
      "source": [
        "print(lista[::2])"
      ],
      "metadata": {
        "colab": {
          "base_uri": "https://localhost:8080/"
        },
        "id": "xCxPa_iIjPMC",
        "outputId": "9bd94c15-b358-47b8-a4c6-1568a017ea8e"
      },
      "execution_count": null,
      "outputs": [
        {
          "output_type": "stream",
          "name": "stdout",
          "text": [
            "[1, 3, 5, 7, 9]\n"
          ]
        }
      ]
    },
    {
      "cell_type": "markdown",
      "source": [
        "Y si queremos el orden inverso, ponemos que nuestro *paso* sea `-1`"
      ],
      "metadata": {
        "id": "35DS2PpByq0_"
      }
    },
    {
      "cell_type": "code",
      "source": [
        "print(lista[::-1])"
      ],
      "metadata": {
        "colab": {
          "base_uri": "https://localhost:8080/"
        },
        "id": "6NdGB2W_jSDS",
        "outputId": "d30d1604-eaf9-4623-b413-71f06a3e08f1"
      },
      "execution_count": null,
      "outputs": [
        {
          "output_type": "stream",
          "name": "stdout",
          "text": [
            "[9, 8, 7, 6, 5, 4, 3, 2, 1]\n"
          ]
        }
      ]
    },
    {
      "cell_type": "markdown",
      "source": [
        "# Funciones\n",
        "\n",
        "Las **funciones** en Python son bloques de código reutilizables que permiten organizar y estructurar un programa de manera eficiente. Una función puede recibir **parámetros** como entrada, realizar operaciones sobre esos parámetros y devolver un **resultado**. Las funciones ayudan a evitar la repetición de código, facilitando la legibilidad y el mantenimiento del programa. Además, permiten la división lógica de un problema en pequeñas tareas o módulos, lo que mejora la claridad y la reutilización en proyectos más grandes. Python incluye muchas funciones predefinidas, pero también permite crear funciones personalizadas para adaptarse a necesidades específicas."
      ],
      "metadata": {
        "id": "Wem6-uRVywEH"
      }
    },
    {
      "cell_type": "markdown",
      "source": [
        "Para definir una función usamos la siguiente sintáxis\n",
        "\n",
        "```\n",
        "def nombre_funcion(param1, param2,...):\n",
        "    codigo1\n",
        "    codigo2\n",
        "    .\n",
        "    .\n",
        "```"
      ],
      "metadata": {
        "id": "63fjvRR5zCyj"
      }
    },
    {
      "cell_type": "markdown",
      "source": [
        "Por ejemplo, una función que realice una suma es"
      ],
      "metadata": {
        "id": "EL6ZbZ3mzPjV"
      }
    },
    {
      "cell_type": "code",
      "source": [
        "def suma(a,b):\n",
        "    print(a+b)"
      ],
      "metadata": {
        "id": "E7d-FR_tjWCR"
      },
      "execution_count": null,
      "outputs": []
    },
    {
      "cell_type": "markdown",
      "source": [
        "Por lo que para usarla, solo necesitamos escribir el nombre de la funcion y los parámetros correspondientes"
      ],
      "metadata": {
        "id": "ro1SGHjgzR73"
      }
    },
    {
      "cell_type": "code",
      "source": [
        "suma(1,2)"
      ],
      "metadata": {
        "colab": {
          "base_uri": "https://localhost:8080/"
        },
        "id": "lrCGMdaGj_Vs",
        "outputId": "0484f60f-29ab-4759-e445-543a47b2c4a6"
      },
      "execution_count": null,
      "outputs": [
        {
          "output_type": "stream",
          "name": "stdout",
          "text": [
            "3\n"
          ]
        }
      ]
    },
    {
      "cell_type": "markdown",
      "source": [
        "Si ponemos un parámetro incorrecto, el interprete de python nos mostrará en donde está el error dentro de la función"
      ],
      "metadata": {
        "id": "B8augZwpzXfb"
      }
    },
    {
      "cell_type": "code",
      "source": [
        "sum('a','b')"
      ],
      "metadata": {
        "colab": {
          "base_uri": "https://localhost:8080/",
          "height": 141
        },
        "id": "UmdFU9vekAkI",
        "outputId": "80168107-9e8b-450f-a647-b0f5a314f49c"
      },
      "execution_count": null,
      "outputs": [
        {
          "output_type": "error",
          "ename": "TypeError",
          "evalue": "sum() can't sum strings [use ''.join(seq) instead]",
          "traceback": [
            "\u001b[0;31m---------------------------------------------------------------------------\u001b[0m",
            "\u001b[0;31mTypeError\u001b[0m                                 Traceback (most recent call last)",
            "\u001b[0;32m<ipython-input-28-6bee6b900189>\u001b[0m in \u001b[0;36m<cell line: 1>\u001b[0;34m()\u001b[0m\n\u001b[0;32m----> 1\u001b[0;31m \u001b[0msum\u001b[0m\u001b[0;34m(\u001b[0m\u001b[0;34m'a'\u001b[0m\u001b[0;34m,\u001b[0m\u001b[0;34m'b'\u001b[0m\u001b[0;34m)\u001b[0m\u001b[0;34m\u001b[0m\u001b[0;34m\u001b[0m\u001b[0m\n\u001b[0m",
            "\u001b[0;31mTypeError\u001b[0m: sum() can't sum strings [use ''.join(seq) instead]"
          ]
        }
      ]
    },
    {
      "cell_type": "markdown",
      "source": [
        "Pero si la operación o función en cuestión puede ejecutarse con los parámetros dados, todo funcionará"
      ],
      "metadata": {
        "id": "hTbIPEgCzf6R"
      }
    },
    {
      "cell_type": "code",
      "source": [
        "suma(1.1, 2.2)"
      ],
      "metadata": {
        "colab": {
          "base_uri": "https://localhost:8080/"
        },
        "id": "0TPUV7OvkD1R",
        "outputId": "075b4ebf-b9bb-4fc9-a537-843dfb1d0a21"
      },
      "execution_count": null,
      "outputs": [
        {
          "output_type": "stream",
          "name": "stdout",
          "text": [
            "3.3000000000000003\n"
          ]
        }
      ]
    },
    {
      "cell_type": "markdown",
      "source": [
        "Hay que remarcar que, a diferencia de C, en python no es necesario especificar el tipo de datos de los parámetros.\n",
        "\n",
        "Si se desea regresar algún valor, esto se hace con el comando return"
      ],
      "metadata": {
        "id": "8YSc-qq406yz"
      }
    },
    {
      "cell_type": "code",
      "source": [
        "def suma(a,b):\n",
        "    return a+b"
      ],
      "metadata": {
        "id": "M1B2wrxokJhg"
      },
      "execution_count": null,
      "outputs": []
    },
    {
      "cell_type": "markdown",
      "source": [
        "de esta manera, aunque veamos lo mismo en el interprete"
      ],
      "metadata": {
        "id": "0bb7z4mc1GXt"
      }
    },
    {
      "cell_type": "code",
      "source": [
        "suma(1,2)\n"
      ],
      "metadata": {
        "colab": {
          "base_uri": "https://localhost:8080/"
        },
        "id": "Ahx5lELDkT2l",
        "outputId": "11e60ad8-0b5b-43a5-ed5c-431678d30cd6"
      },
      "execution_count": null,
      "outputs": [
        {
          "output_type": "execute_result",
          "data": {
            "text/plain": [
              "3"
            ]
          },
          "metadata": {},
          "execution_count": 31
        }
      ]
    },
    {
      "cell_type": "markdown",
      "source": [
        "Ahora podemos guardar el valor en un variable."
      ],
      "metadata": {
        "id": "6JG3aJ6Y1I2G"
      }
    },
    {
      "cell_type": "code",
      "source": [
        "e= suma(2,3)"
      ],
      "metadata": {
        "id": "Lrf4DXJrkYRN"
      },
      "execution_count": null,
      "outputs": []
    },
    {
      "cell_type": "markdown",
      "source": [
        "Hay que tener cuidado con los parámetros que le damos a la función, algunos tipos de datos pueden llevar a resultados no esperados"
      ],
      "metadata": {
        "id": "XmNVD6DP1MLH"
      }
    },
    {
      "cell_type": "code",
      "source": [
        "suma([1,2,3,4,5],[6,7,8,9,0])"
      ],
      "metadata": {
        "colab": {
          "base_uri": "https://localhost:8080/"
        },
        "id": "jLARjPb8kceS",
        "outputId": "21d737e8-33e3-4be8-c535-87a912d14f2d"
      },
      "execution_count": null,
      "outputs": [
        {
          "output_type": "execute_result",
          "data": {
            "text/plain": [
              "[1, 2, 3, 4, 5, 6, 7, 8, 9, 0]"
            ]
          },
          "metadata": {},
          "execution_count": 33
        }
      ]
    },
    {
      "cell_type": "markdown",
      "source": [
        "## Parámetros de una función"
      ],
      "metadata": {
        "id": "ip1kesYW1UBU"
      }
    },
    {
      "cell_type": "markdown",
      "source": [
        "Sea la siguiente función, podemos pasarle los parámetros por su posición, es decir, como parámetros posicionales. En el siguiente ejemplo, 1 será pasado como `a` y 2 como `b`"
      ],
      "metadata": {
        "id": "OJLy3dkb1WMI"
      }
    },
    {
      "cell_type": "code",
      "source": [
        "suma(1,2)"
      ],
      "metadata": {
        "colab": {
          "base_uri": "https://localhost:8080/"
        },
        "id": "JE_YU2H6kkcF",
        "outputId": "f95cb0e1-2edd-40bd-9902-4436918c8d28"
      },
      "execution_count": null,
      "outputs": [
        {
          "output_type": "execute_result",
          "data": {
            "text/plain": [
              "3"
            ]
          },
          "metadata": {},
          "execution_count": 34
        }
      ]
    },
    {
      "cell_type": "markdown",
      "source": [
        "Sin embargo podemos especificar que parámetro es cual por su nombre, es decir, como parámetros por/con nombre. En el siguiente ejemplo, especificamos que 2 será el valor de `b` y 1 será el valor de `a`"
      ],
      "metadata": {
        "id": "cxBdcxFu1XwM"
      }
    },
    {
      "cell_type": "code",
      "source": [
        "suma(b=2, a=1)"
      ],
      "metadata": {
        "colab": {
          "base_uri": "https://localhost:8080/"
        },
        "id": "MILSbCFak_IJ",
        "outputId": "e00c3a17-8f62-493c-c121-755257892a08"
      },
      "execution_count": null,
      "outputs": [
        {
          "output_type": "execute_result",
          "data": {
            "text/plain": [
              "3"
            ]
          },
          "metadata": {},
          "execution_count": 35
        }
      ]
    },
    {
      "cell_type": "markdown",
      "source": [
        "Podemos combinar ambos tipos de parámetros cuando llamamos una función, pero siempre poniendo los parámetros posicionales primero y luego los parámetros por nombre. Si se hace al revés se producirá un error"
      ],
      "metadata": {
        "id": "L_vU36gU145-"
      }
    },
    {
      "cell_type": "code",
      "source": [
        "suma(b=1, 2)"
      ],
      "metadata": {
        "colab": {
          "base_uri": "https://localhost:8080/",
          "height": 106
        },
        "id": "ygAC9yLzlIcP",
        "outputId": "e48b8635-99d3-43b2-e1db-d385775e6e55"
      },
      "execution_count": null,
      "outputs": [
        {
          "output_type": "error",
          "ename": "SyntaxError",
          "evalue": "positional argument follows keyword argument (<ipython-input-37-09c1c6c73c1f>, line 1)",
          "traceback": [
            "\u001b[0;36m  File \u001b[0;32m\"<ipython-input-37-09c1c6c73c1f>\"\u001b[0;36m, line \u001b[0;32m1\u001b[0m\n\u001b[0;31m    suma(b=1, 2)\u001b[0m\n\u001b[0m               ^\u001b[0m\n\u001b[0;31mSyntaxError\u001b[0m\u001b[0;31m:\u001b[0m positional argument follows keyword argument\n"
          ]
        }
      ]
    },
    {
      "cell_type": "markdown",
      "source": [
        "Pero si ponemos los parámetros posiciones y luego los parámetros por nombre, no habrá ningún problema"
      ],
      "metadata": {
        "id": "cXB4z65-2FLF"
      }
    },
    {
      "cell_type": "code",
      "source": [
        "suma(1, b=1)"
      ],
      "metadata": {
        "colab": {
          "base_uri": "https://localhost:8080/"
        },
        "id": "RgDA3DfplM6R",
        "outputId": "9164cfd2-c94b-4e2d-c4d9-a484f4b4b40d"
      },
      "execution_count": null,
      "outputs": [
        {
          "output_type": "execute_result",
          "data": {
            "text/plain": [
              "2"
            ]
          },
          "metadata": {},
          "execution_count": 38
        }
      ]
    },
    {
      "cell_type": "markdown",
      "source": [
        "Podemos definir valores por defecto a los parámetros en una función de python"
      ],
      "metadata": {
        "id": "kSJtBz2a2Kxn"
      }
    },
    {
      "cell_type": "code",
      "source": [
        "def mult(a,b=1):\n",
        "    return a*b"
      ],
      "metadata": {
        "id": "eCqf5TRAlX23"
      },
      "execution_count": null,
      "outputs": []
    },
    {
      "cell_type": "markdown",
      "source": [
        "Por lo que si no se da ese parámetro al momento de llamar la función, se tomará el valor por defecto"
      ],
      "metadata": {
        "id": "-1ABd4xC2PbT"
      }
    },
    {
      "cell_type": "code",
      "source": [
        "mult(1)"
      ],
      "metadata": {
        "colab": {
          "base_uri": "https://localhost:8080/"
        },
        "id": "SBuoyItTlhGp",
        "outputId": "e58a90fe-3859-47ef-b37b-a80f4d138e5c"
      },
      "execution_count": null,
      "outputs": [
        {
          "output_type": "execute_result",
          "data": {
            "text/plain": [
              "1"
            ]
          },
          "metadata": {},
          "execution_count": 40
        }
      ]
    },
    {
      "cell_type": "markdown",
      "source": [
        "Y sin problema podemos asignarle otro valor"
      ],
      "metadata": {
        "id": "PjjmuPmS2UJ2"
      }
    },
    {
      "cell_type": "code",
      "source": [
        "mult(1,3)"
      ],
      "metadata": {
        "colab": {
          "base_uri": "https://localhost:8080/"
        },
        "id": "pIP705R6lknd",
        "outputId": "f5966157-4fbb-4548-9c0a-a6c14ea05d69"
      },
      "execution_count": null,
      "outputs": [
        {
          "output_type": "execute_result",
          "data": {
            "text/plain": [
              "3"
            ]
          },
          "metadata": {},
          "execution_count": 41
        }
      ]
    },
    {
      "cell_type": "markdown",
      "source": [
        "Las funciones aceptan cualquier tipo de parámetro y eso es muy útil para que la escritura y lectura del código sea rápida y eficiente"
      ],
      "metadata": {
        "id": "ubsWRhGs2YfG"
      }
    },
    {
      "cell_type": "code",
      "source": [
        "def hola(nombre, apellido):\n",
        "    print(f'Hola {nombre} {apellido}')"
      ],
      "metadata": {
        "id": "epJ42b7TlpqN"
      },
      "execution_count": null,
      "outputs": []
    },
    {
      "cell_type": "code",
      "source": [
        "hola('Juan', 'Perez')"
      ],
      "metadata": {
        "colab": {
          "base_uri": "https://localhost:8080/"
        },
        "id": "l6vVlNkVmFa9",
        "outputId": "92e79627-558c-425c-8a34-b9b23da1502b"
      },
      "execution_count": null,
      "outputs": [
        {
          "output_type": "stream",
          "name": "stdout",
          "text": [
            "Hola Juan Perez\n"
          ]
        }
      ]
    },
    {
      "cell_type": "markdown",
      "source": [
        "## Funciones anónimas"
      ],
      "metadata": {
        "id": "whlq9nA62hF-"
      }
    },
    {
      "cell_type": "markdown",
      "source": [
        "Las **funciones anónimas** en Python, conocidas como **funciones lambda**, son funciones que se definen sin un nombre explícito. Son útiles para tareas rápidas y sencillas donde no se necesita definir una función completa con `def`. Estas funciones pueden tomar cualquier cantidad de argumentos, pero solo pueden contener una expresión, que se evalúa y devuelve automáticamente. Se utilizan frecuentemente en funciones como `map()`, `filter()`, o en casos donde se necesita una función temporal sin necesidad de reutilización."
      ],
      "metadata": {
        "id": "tt3SkvkR2tbk"
      }
    },
    {
      "cell_type": "markdown",
      "source": [
        "Por ejemplo, una función que calcule los cuadrados de un número"
      ],
      "metadata": {
        "id": "9nXhXdBX3ZEh"
      }
    },
    {
      "cell_type": "code",
      "source": [
        "lambda x: x**2"
      ],
      "metadata": {
        "colab": {
          "base_uri": "https://localhost:8080/"
        },
        "id": "w0by5CL5mHg0",
        "outputId": "798bcd2e-b97b-47b7-d131-668fccfae682"
      },
      "execution_count": null,
      "outputs": [
        {
          "output_type": "execute_result",
          "data": {
            "text/plain": [
              "<function __main__.<lambda>(x)>"
            ]
          },
          "metadata": {},
          "execution_count": 45
        }
      ]
    },
    {
      "cell_type": "markdown",
      "source": [
        "Si la asignamos a una variable, podemos usarla en cualquer momento"
      ],
      "metadata": {
        "id": "96BoOa3n3Ycu"
      }
    },
    {
      "cell_type": "code",
      "source": [
        "a = lambda x: x**2"
      ],
      "metadata": {
        "id": "U2gkuqqmmcDw"
      },
      "execution_count": null,
      "outputs": []
    },
    {
      "cell_type": "markdown",
      "source": [
        "Y poder pasarle parámetros"
      ],
      "metadata": {
        "id": "iV7mTPKo38pa"
      }
    },
    {
      "cell_type": "code",
      "source": [
        "a(5)"
      ],
      "metadata": {
        "colab": {
          "base_uri": "https://localhost:8080/"
        },
        "id": "WX_T83GgmfWU",
        "outputId": "85bfbe3f-28f7-4535-e048-4a377d97c655"
      },
      "execution_count": null,
      "outputs": [
        {
          "output_type": "execute_result",
          "data": {
            "text/plain": [
              "25"
            ]
          },
          "metadata": {},
          "execution_count": 47
        }
      ]
    },
    {
      "cell_type": "code",
      "source": [
        "a(36)"
      ],
      "metadata": {
        "colab": {
          "base_uri": "https://localhost:8080/"
        },
        "id": "WUNv2sJPmgYg",
        "outputId": "e2b903b4-0867-40c1-cf46-aeddb22d6d13"
      },
      "execution_count": null,
      "outputs": [
        {
          "output_type": "execute_result",
          "data": {
            "text/plain": [
              "1296"
            ]
          },
          "metadata": {},
          "execution_count": 48
        }
      ]
    },
    {
      "cell_type": "markdown",
      "source": [
        "Si la definieramos la función de la forma usual"
      ],
      "metadata": {
        "id": "387RR6jp3_V2"
      }
    },
    {
      "cell_type": "code",
      "source": [
        "def cuadrado(x):\n",
        "    return x**2"
      ],
      "metadata": {
        "id": "2jcnvlfrmhuP"
      },
      "execution_count": null,
      "outputs": []
    },
    {
      "cell_type": "markdown",
      "source": [
        "En este caso, desde la definición tenemos el nombre"
      ],
      "metadata": {
        "id": "egIXK_5D4Dlt"
      }
    },
    {
      "cell_type": "code",
      "source": [
        "cuadrado(5)"
      ],
      "metadata": {
        "colab": {
          "base_uri": "https://localhost:8080/"
        },
        "id": "vfNie9PLmmlN",
        "outputId": "2758b48b-53c3-4cb0-c512-7203c7de6b10"
      },
      "execution_count": null,
      "outputs": [
        {
          "output_type": "execute_result",
          "data": {
            "text/plain": [
              "25"
            ]
          },
          "metadata": {},
          "execution_count": 50
        }
      ]
    },
    {
      "cell_type": "markdown",
      "source": [
        "Una de las principales diferencias es que cuando hay un error en la función definida con `def`, el interprete nos indíca que el error estuvo en la función `cuadrado(x)`"
      ],
      "metadata": {
        "id": "wXdUH7mJ4Gj6"
      }
    },
    {
      "cell_type": "code",
      "source": [
        "cuadrado('a')"
      ],
      "metadata": {
        "colab": {
          "base_uri": "https://localhost:8080/",
          "height": 211
        },
        "id": "fnjmzzNBmo0g",
        "outputId": "0400d59b-0a6a-4f55-ad94-87408f51f8d1"
      },
      "execution_count": null,
      "outputs": [
        {
          "output_type": "error",
          "ename": "TypeError",
          "evalue": "unsupported operand type(s) for ** or pow(): 'str' and 'int'",
          "traceback": [
            "\u001b[0;31m---------------------------------------------------------------------------\u001b[0m",
            "\u001b[0;31mTypeError\u001b[0m                                 Traceback (most recent call last)",
            "\u001b[0;32m<ipython-input-51-00c5ce253cb7>\u001b[0m in \u001b[0;36m<cell line: 1>\u001b[0;34m()\u001b[0m\n\u001b[0;32m----> 1\u001b[0;31m \u001b[0mcuadrado\u001b[0m\u001b[0;34m(\u001b[0m\u001b[0;34m'a'\u001b[0m\u001b[0;34m)\u001b[0m\u001b[0;34m\u001b[0m\u001b[0;34m\u001b[0m\u001b[0m\n\u001b[0m",
            "\u001b[0;32m<ipython-input-49-5b68cf5ffa48>\u001b[0m in \u001b[0;36mcuadrado\u001b[0;34m(x)\u001b[0m\n\u001b[1;32m      1\u001b[0m \u001b[0;32mdef\u001b[0m \u001b[0mcuadrado\u001b[0m\u001b[0;34m(\u001b[0m\u001b[0mx\u001b[0m\u001b[0;34m)\u001b[0m\u001b[0;34m:\u001b[0m\u001b[0;34m\u001b[0m\u001b[0;34m\u001b[0m\u001b[0m\n\u001b[0;32m----> 2\u001b[0;31m     \u001b[0;32mreturn\u001b[0m \u001b[0mx\u001b[0m\u001b[0;34m**\u001b[0m\u001b[0;36m2\u001b[0m\u001b[0;34m\u001b[0m\u001b[0;34m\u001b[0m\u001b[0m\n\u001b[0m",
            "\u001b[0;31mTypeError\u001b[0m: unsupported operand type(s) for ** or pow(): 'str' and 'int'"
          ]
        }
      ]
    },
    {
      "cell_type": "markdown",
      "source": [
        "Pero en una función anónima, aunque nos índica que es una función `<lambda>(x)`, realmente no nos dice el nombre"
      ],
      "metadata": {
        "id": "wm9e7Bc-4PBm"
      }
    },
    {
      "cell_type": "code",
      "source": [
        "a('a')"
      ],
      "metadata": {
        "colab": {
          "base_uri": "https://localhost:8080/",
          "height": 193
        },
        "id": "Gq1bN4OAmsL7",
        "outputId": "6ce3f6c7-fba8-4271-c57f-c586f0498bf2"
      },
      "execution_count": null,
      "outputs": [
        {
          "output_type": "error",
          "ename": "TypeError",
          "evalue": "unsupported operand type(s) for ** or pow(): 'str' and 'int'",
          "traceback": [
            "\u001b[0;31m---------------------------------------------------------------------------\u001b[0m",
            "\u001b[0;31mTypeError\u001b[0m                                 Traceback (most recent call last)",
            "\u001b[0;32m<ipython-input-52-0bff7496bf5f>\u001b[0m in \u001b[0;36m<cell line: 1>\u001b[0;34m()\u001b[0m\n\u001b[0;32m----> 1\u001b[0;31m \u001b[0ma\u001b[0m\u001b[0;34m(\u001b[0m\u001b[0;34m'a'\u001b[0m\u001b[0;34m)\u001b[0m\u001b[0;34m\u001b[0m\u001b[0;34m\u001b[0m\u001b[0m\n\u001b[0m",
            "\u001b[0;32m<ipython-input-46-e53bb145b25e>\u001b[0m in \u001b[0;36m<lambda>\u001b[0;34m(x)\u001b[0m\n\u001b[0;32m----> 1\u001b[0;31m \u001b[0ma\u001b[0m \u001b[0;34m=\u001b[0m \u001b[0;32mlambda\u001b[0m \u001b[0mx\u001b[0m\u001b[0;34m:\u001b[0m \u001b[0mx\u001b[0m\u001b[0;34m**\u001b[0m\u001b[0;36m2\u001b[0m\u001b[0;34m\u001b[0m\u001b[0;34m\u001b[0m\u001b[0m\n\u001b[0m",
            "\u001b[0;31mTypeError\u001b[0m: unsupported operand type(s) for ** or pow(): 'str' and 'int'"
          ]
        }
      ]
    },
    {
      "cell_type": "markdown",
      "source": [
        "# Diccionarios"
      ],
      "metadata": {
        "id": "UcpozfH94Wf-"
      }
    },
    {
      "cell_type": "markdown",
      "source": [
        "\n",
        "Un **diccionario** en Python es una colección desordenada, mutable y que asocia **pares clave-valor**. Cada elemento en un diccionario tiene una **clave** (que debe ser única e inmutable) y un **valor** asociado (que puede ser de cualquier tipo de dato). Los diccionarios permiten acceder a los valores usando las claves en lugar de índices, lo que los hace ideales para almacenar datos donde la relación entre los elementos es importante, como un registro de información o una tabla de búsqueda.\n",
        "\n",
        "## Características principales\n",
        "\n",
        "- **Claves únicas**: No pueden existir claves duplicadas en un diccionario.\n",
        "- **Acceso rápido**: Los valores se acceden a través de sus claves, lo que permite un acceso eficiente a los datos.\n",
        "- **Mutables**: Los diccionarios pueden modificarse, agregando o eliminando pares clave-valor.\n",
        "\n",
        "Los diccionarios son una estructura de datos poderosa y flexible en Python, comúnmente utilizada para organizar y manipular datos estructurados."
      ],
      "metadata": {
        "id": "6H-ihWxR4unK"
      }
    },
    {
      "cell_type": "markdown",
      "source": [
        "Los diccionarios se definen con `{}`. Se definen los valores, tenemos que poner las **keys** y los valores asociados a ellas, siempre por pares"
      ],
      "metadata": {
        "id": "DY8l7VsG41mV"
      }
    },
    {
      "cell_type": "code",
      "source": [
        "dic1 = {'a':1, 'b':2, 'c':3}"
      ],
      "metadata": {
        "id": "wwaFGRwRm0-j"
      },
      "execution_count": null,
      "outputs": []
    },
    {
      "cell_type": "markdown",
      "source": [
        "Al imprimir un diccionario, veremos tanto las keys como su valores asociados"
      ],
      "metadata": {
        "id": "eksv8w374_Pt"
      }
    },
    {
      "cell_type": "code",
      "source": [
        "print(dic1)"
      ],
      "metadata": {
        "colab": {
          "base_uri": "https://localhost:8080/"
        },
        "id": "tKUedf1lnwAg",
        "outputId": "38bc8029-29dc-4808-fc43-9bdd2dc78b18"
      },
      "execution_count": null,
      "outputs": [
        {
          "output_type": "stream",
          "name": "stdout",
          "text": [
            "{'a': 1, 'b': 2, 'c': 3}\n"
          ]
        }
      ]
    },
    {
      "cell_type": "markdown",
      "source": [
        "Para acceder a los diferentes valores, lo hacemos por medio de sus respectivas keys"
      ],
      "metadata": {
        "id": "P_oh2-s25EHK"
      }
    },
    {
      "cell_type": "code",
      "source": [
        "dic1['a']\n"
      ],
      "metadata": {
        "colab": {
          "base_uri": "https://localhost:8080/"
        },
        "id": "JBa13Ztwnx9I",
        "outputId": "cbe2ba6f-e2e2-4d35-8246-cbe1db788f42"
      },
      "execution_count": null,
      "outputs": [
        {
          "output_type": "execute_result",
          "data": {
            "text/plain": [
              "1"
            ]
          },
          "metadata": {},
          "execution_count": 56
        }
      ]
    },
    {
      "cell_type": "code",
      "source": [
        "dic1['b']"
      ],
      "metadata": {
        "colab": {
          "base_uri": "https://localhost:8080/"
        },
        "id": "TCHEYCs4n2HR",
        "outputId": "cf20dcef-05e4-4755-d5d7-0b8b17b47779"
      },
      "execution_count": null,
      "outputs": [
        {
          "output_type": "execute_result",
          "data": {
            "text/plain": [
              "2"
            ]
          },
          "metadata": {},
          "execution_count": 57
        }
      ]
    },
    {
      "cell_type": "markdown",
      "source": [
        "Podemos remarcar que las **keys** de un diccionario puede ser cualquier tipo de dato que sea inmutable, es decir, enteros, strings, tuplas, etc. Los datos asociados a los keys pueden ser cualquier tipo de datos"
      ],
      "metadata": {
        "id": "iZb0E8jc5Ks3"
      }
    },
    {
      "cell_type": "code",
      "source": [
        "dic2 = {1:'a', 2:[1,2,3,4,5], 'a':'juna'}"
      ],
      "metadata": {
        "id": "Io0RW1kSn7gu"
      },
      "execution_count": null,
      "outputs": []
    },
    {
      "cell_type": "code",
      "source": [
        "dic2[1]"
      ],
      "metadata": {
        "colab": {
          "base_uri": "https://localhost:8080/",
          "height": 35
        },
        "id": "VwCnH7d5oFe2",
        "outputId": "b55da894-352e-4d36-8484-0c48b810ffee"
      },
      "execution_count": null,
      "outputs": [
        {
          "output_type": "execute_result",
          "data": {
            "text/plain": [
              "'a'"
            ],
            "application/vnd.google.colaboratory.intrinsic+json": {
              "type": "string"
            }
          },
          "metadata": {},
          "execution_count": 59
        }
      ]
    },
    {
      "cell_type": "code",
      "source": [
        "dic2[2]"
      ],
      "metadata": {
        "colab": {
          "base_uri": "https://localhost:8080/"
        },
        "id": "6YJqtoDqoHqF",
        "outputId": "9fbd74e9-f380-4cce-a29a-0def25274094"
      },
      "execution_count": null,
      "outputs": [
        {
          "output_type": "execute_result",
          "data": {
            "text/plain": [
              "[1, 2, 3, 4, 5]"
            ]
          },
          "metadata": {},
          "execution_count": 60
        }
      ]
    },
    {
      "cell_type": "code",
      "source": [
        "dic2['a']"
      ],
      "metadata": {
        "colab": {
          "base_uri": "https://localhost:8080/",
          "height": 35
        },
        "id": "6Q0wXkDtoLVM",
        "outputId": "6eb9bece-45dc-449b-fc3b-0b640af6be5c"
      },
      "execution_count": null,
      "outputs": [
        {
          "output_type": "execute_result",
          "data": {
            "text/plain": [
              "'juna'"
            ],
            "application/vnd.google.colaboratory.intrinsic+json": {
              "type": "string"
            }
          },
          "metadata": {},
          "execution_count": 61
        }
      ]
    },
    {
      "cell_type": "markdown",
      "source": [
        "Uno de los usos mas comunes de un diccionario es \"encapsular\" los datos relacionados a algo bajo un mismo nombre, como la información de una persona"
      ],
      "metadata": {
        "id": "fRuJ_dRq6CMW"
      }
    },
    {
      "cell_type": "code",
      "source": [
        "user1 = {'nombre':'Juan', 'apellido':'Perez', 'edad':25}"
      ],
      "metadata": {
        "id": "zX-A_ltmoNec"
      },
      "execution_count": null,
      "outputs": []
    },
    {
      "cell_type": "code",
      "source": [
        "user1['nombre']"
      ],
      "metadata": {
        "colab": {
          "base_uri": "https://localhost:8080/",
          "height": 35
        },
        "id": "Fka_QEaxoTHA",
        "outputId": "562b970c-3c95-4752-8357-8801ffbb0ea0"
      },
      "execution_count": null,
      "outputs": [
        {
          "output_type": "execute_result",
          "data": {
            "text/plain": [
              "'Juan'"
            ],
            "application/vnd.google.colaboratory.intrinsic+json": {
              "type": "string"
            }
          },
          "metadata": {},
          "execution_count": 63
        }
      ]
    },
    {
      "cell_type": "code",
      "source": [
        "user1['apellido']"
      ],
      "metadata": {
        "colab": {
          "base_uri": "https://localhost:8080/",
          "height": 35
        },
        "id": "YYAnuhdZoUbG",
        "outputId": "1a12a59c-3afd-4e86-9050-0b2e8faf6083"
      },
      "execution_count": null,
      "outputs": [
        {
          "output_type": "execute_result",
          "data": {
            "text/plain": [
              "'Perez'"
            ],
            "application/vnd.google.colaboratory.intrinsic+json": {
              "type": "string"
            }
          },
          "metadata": {},
          "execution_count": 64
        }
      ]
    },
    {
      "cell_type": "markdown",
      "source": [
        "## Operaciones con diccionarios"
      ],
      "metadata": {
        "id": "qLBC-utc6M2R"
      }
    },
    {
      "cell_type": "markdown",
      "source": [
        "Para agregar a un diccionario existente, solo tenemos que especificar su **key** correspondiente y su valor asociado."
      ],
      "metadata": {
        "id": "60BvyubK6Soz"
      }
    },
    {
      "cell_type": "code",
      "source": [
        "dic1['nocuenta'] = 123456"
      ],
      "metadata": {
        "id": "hz5Dos8uoX5K"
      },
      "execution_count": null,
      "outputs": []
    },
    {
      "cell_type": "code",
      "source": [
        "dic1"
      ],
      "metadata": {
        "colab": {
          "base_uri": "https://localhost:8080/"
        },
        "id": "DiqBbyQromxJ",
        "outputId": "bccf6d15-f1d4-4b1a-d469-8d311812f7ea"
      },
      "execution_count": null,
      "outputs": [
        {
          "output_type": "execute_result",
          "data": {
            "text/plain": [
              "{'a': 1, 'b': 2, 'c': 3, 'nocuenta': 123456}"
            ]
          },
          "metadata": {},
          "execution_count": 66
        }
      ]
    },
    {
      "cell_type": "markdown",
      "source": [
        "El método `items()` de un diccionario nos regresará como una lista cada par key-valor de un diccionario"
      ],
      "metadata": {
        "id": "aJy8FRe06aNf"
      }
    },
    {
      "cell_type": "code",
      "source": [
        "dic1.items()"
      ],
      "metadata": {
        "colab": {
          "base_uri": "https://localhost:8080/"
        },
        "id": "cIHUAW67osH3",
        "outputId": "b5500427-8921-4b26-8842-1fd95a63de02"
      },
      "execution_count": null,
      "outputs": [
        {
          "output_type": "execute_result",
          "data": {
            "text/plain": [
              "dict_items([('a', 1), ('b', 2), ('c', 3), ('nocuenta', 123456)])"
            ]
          },
          "metadata": {},
          "execution_count": 67
        }
      ]
    },
    {
      "cell_type": "markdown",
      "source": [
        "El método `keys()` nos regresará solamente una lista de las keys del diccionario"
      ],
      "metadata": {
        "id": "Oj6MSqBW7L-n"
      }
    },
    {
      "cell_type": "code",
      "source": [
        "dic1.keys()"
      ],
      "metadata": {
        "colab": {
          "base_uri": "https://localhost:8080/"
        },
        "id": "XCPxYil3o1nh",
        "outputId": "11a23c68-814b-4287-9542-4704229f572b"
      },
      "execution_count": null,
      "outputs": [
        {
          "output_type": "execute_result",
          "data": {
            "text/plain": [
              "dict_keys(['a', 'b', 'c', 'nocuenta'])"
            ]
          },
          "metadata": {},
          "execution_count": 68
        }
      ]
    },
    {
      "cell_type": "markdown",
      "source": [
        "El método `values()` nos regresará solamente la lista de los valores"
      ],
      "metadata": {
        "id": "9dbWWJp17QZW"
      }
    },
    {
      "cell_type": "code",
      "source": [
        "dic1.values()"
      ],
      "metadata": {
        "colab": {
          "base_uri": "https://localhost:8080/"
        },
        "id": "YIKE5ntyo4ys",
        "outputId": "62059292-378b-4bec-9775-b5c6b6e4b134"
      },
      "execution_count": null,
      "outputs": [
        {
          "output_type": "execute_result",
          "data": {
            "text/plain": [
              "dict_values([1, 2, 3, 123456])"
            ]
          },
          "metadata": {},
          "execution_count": 69
        }
      ]
    },
    {
      "cell_type": "markdown",
      "source": [
        "El método `items()` es especialmente útils para iterar por las keys y valores de un diccionarios con un for"
      ],
      "metadata": {
        "id": "2lVSuwHa7URt"
      }
    },
    {
      "cell_type": "code",
      "source": [
        "for k, v in dic1.items():\n",
        "    print(k,v)"
      ],
      "metadata": {
        "colab": {
          "base_uri": "https://localhost:8080/"
        },
        "id": "Ba7JlItko79-",
        "outputId": "3836e05a-4045-419b-8a37-c771dc2405a1"
      },
      "execution_count": null,
      "outputs": [
        {
          "output_type": "stream",
          "name": "stdout",
          "text": [
            "a 1\n",
            "b 2\n",
            "c 3\n",
            "nocuenta 123456\n"
          ]
        }
      ]
    },
    {
      "cell_type": "markdown",
      "source": [
        "Aunque podemos acceder a los elementos de un diccionario por medio de su key"
      ],
      "metadata": {
        "id": "OxEIfc3J8Mao"
      }
    },
    {
      "cell_type": "code",
      "source": [
        "dic1['a']"
      ],
      "metadata": {
        "colab": {
          "base_uri": "https://localhost:8080/"
        },
        "id": "WBCLw99YpHCR",
        "outputId": "4a3eb48e-e227-4bd8-be3d-6cfee6e9be12"
      },
      "execution_count": null,
      "outputs": [
        {
          "output_type": "execute_result",
          "data": {
            "text/plain": [
              "1"
            ]
          },
          "metadata": {},
          "execution_count": 71
        }
      ]
    },
    {
      "cell_type": "markdown",
      "source": [
        "Existe el método `get()` que hace algo similar, podemos acceder a los elementos por medio de su key"
      ],
      "metadata": {
        "id": "J0k2Oxox8RVU"
      }
    },
    {
      "cell_type": "code",
      "source": [
        "dic1.get('a')"
      ],
      "metadata": {
        "colab": {
          "base_uri": "https://localhost:8080/"
        },
        "id": "iaT1jVVdpSjO",
        "outputId": "2d5d44b3-65d4-42f5-f1db-099349a865bc"
      },
      "execution_count": null,
      "outputs": [
        {
          "output_type": "execute_result",
          "data": {
            "text/plain": [
              "1"
            ]
          },
          "metadata": {},
          "execution_count": 72
        }
      ]
    },
    {
      "cell_type": "markdown",
      "source": [
        "Con la diferencia que si no existe la key, el método `get()` no nos devolverá un error"
      ],
      "metadata": {
        "id": "y8sfAI3H8Zcg"
      }
    },
    {
      "cell_type": "code",
      "source": [
        "dic1.get('d')"
      ],
      "metadata": {
        "id": "2Gtg6ZVQpWBv"
      },
      "execution_count": null,
      "outputs": []
    },
    {
      "cell_type": "markdown",
      "source": [
        "Mientras que de la otra manera si nos regresará un error"
      ],
      "metadata": {
        "id": "P1ueapCG8gsM"
      }
    },
    {
      "cell_type": "code",
      "source": [
        "dic1['d']"
      ],
      "metadata": {
        "colab": {
          "base_uri": "https://localhost:8080/",
          "height": 141
        },
        "id": "_Tj0PhenpX7B",
        "outputId": "749dcb05-0731-451e-b88d-6cee4ed9f8c1"
      },
      "execution_count": null,
      "outputs": [
        {
          "output_type": "error",
          "ename": "KeyError",
          "evalue": "'d'",
          "traceback": [
            "\u001b[0;31m---------------------------------------------------------------------------\u001b[0m",
            "\u001b[0;31mKeyError\u001b[0m                                  Traceback (most recent call last)",
            "\u001b[0;32m<ipython-input-74-809536b81cf4>\u001b[0m in \u001b[0;36m<cell line: 1>\u001b[0;34m()\u001b[0m\n\u001b[0;32m----> 1\u001b[0;31m \u001b[0mdic1\u001b[0m\u001b[0;34m[\u001b[0m\u001b[0;34m'd'\u001b[0m\u001b[0;34m]\u001b[0m\u001b[0;34m\u001b[0m\u001b[0;34m\u001b[0m\u001b[0m\n\u001b[0m",
            "\u001b[0;31mKeyError\u001b[0m: 'd'"
          ]
        }
      ]
    },
    {
      "cell_type": "markdown",
      "source": [
        "Incluso el método `get()` nos permite incluir un mensaje de error"
      ],
      "metadata": {
        "id": "PUVz7nEn8jat"
      }
    },
    {
      "cell_type": "code",
      "source": [
        "dic1.get('d', 'No existe')"
      ],
      "metadata": {
        "colab": {
          "base_uri": "https://localhost:8080/",
          "height": 35
        },
        "id": "Wknxrta7paTt",
        "outputId": "9155eb8e-8e31-4375-8faa-c3810cb7e8e5"
      },
      "execution_count": null,
      "outputs": [
        {
          "output_type": "execute_result",
          "data": {
            "text/plain": [
              "'No existe'"
            ],
            "application/vnd.google.colaboratory.intrinsic+json": {
              "type": "string"
            }
          },
          "metadata": {},
          "execution_count": 75
        }
      ]
    },
    {
      "cell_type": "markdown",
      "source": [
        "# Trabajando con archivos"
      ],
      "metadata": {
        "id": "Sy9of0tB8o-P"
      }
    },
    {
      "cell_type": "markdown",
      "source": [
        "## Escribiendo en archivos"
      ],
      "metadata": {
        "id": "zju4jOPPBx88"
      }
    },
    {
      "cell_type": "markdown",
      "source": [
        "Supongamos que tenemos una masa puntual que está en tiro vertical, dadas sus condiciones iniciales, queremos calcular su posición pasado cierto tiempo"
      ],
      "metadata": {
        "id": "VsbVpmsr93D4"
      }
    },
    {
      "cell_type": "code",
      "source": [
        "v_i = 2.5 #m/s\n",
        "g =  9.81 # m/s^2\n",
        "t = 5 #s\n",
        "x_i = 5 # m\n",
        "x_f = x_i + v_i*t + 0.5*g*t**2\n",
        "print(x_f)"
      ],
      "metadata": {
        "colab": {
          "base_uri": "https://localhost:8080/"
        },
        "id": "7hyYvxTKpfmZ",
        "outputId": "2b400bd9-b20e-4ccc-da39-1cba7a6bf444"
      },
      "execution_count": null,
      "outputs": [
        {
          "output_type": "stream",
          "name": "stdout",
          "text": [
            "140.125\n"
          ]
        }
      ]
    },
    {
      "cell_type": "markdown",
      "source": [
        "Supongamos que queremos calcularlo a diferentes tiempos, podemos usar la función `range()` y un ciclo for"
      ],
      "metadata": {
        "id": "ccfm5CWd-G0i"
      }
    },
    {
      "cell_type": "code",
      "source": [
        "v_i = 2.5 #m/s\n",
        "g =  9.81 # m/s^2\n",
        "t_i = 0 #s\n",
        "t_f = 5\n",
        "x_i = 5 # m\n",
        "for t in range(t_i, t_f):\n",
        "    x_f = x_i + v_i*t + 0.5*g*t**2\n",
        "    print(t, x_f)"
      ],
      "metadata": {
        "colab": {
          "base_uri": "https://localhost:8080/"
        },
        "id": "IIZo36OFqYQ3",
        "outputId": "e94cbe19-3d09-4c96-df21-51dc047ea43a"
      },
      "execution_count": null,
      "outputs": [
        {
          "output_type": "stream",
          "name": "stdout",
          "text": [
            "0 5.0\n",
            "1 12.405000000000001\n",
            "2 29.62\n",
            "3 56.645\n",
            "4 93.48\n"
          ]
        }
      ]
    },
    {
      "cell_type": "markdown",
      "source": [
        "Pero hay que recordar que la función `range()` no \"toca\" el límite superior, por lo que le sumamos un valor representativo"
      ],
      "metadata": {
        "id": "oPPQfxXw_WyQ"
      }
    },
    {
      "cell_type": "code",
      "source": [
        "v_i = 2.5 #m/s\n",
        "g =  9.81 # m/s^2\n",
        "t_i = 0 #s\n",
        "t_f = 5\n",
        "x_i = 5 # m\n",
        "for t in range(t_i, t_f+1):\n",
        "    x_f = x_i + v_i*t + 0.5*g*t**2\n",
        "    print(t, x_f)"
      ],
      "metadata": {
        "colab": {
          "base_uri": "https://localhost:8080/"
        },
        "id": "_Uq0k0d-qp4W",
        "outputId": "daf80720-e50c-481c-c623-14a3f49e3167"
      },
      "execution_count": null,
      "outputs": [
        {
          "output_type": "stream",
          "name": "stdout",
          "text": [
            "0 5.0\n",
            "1 12.405000000000001\n",
            "2 29.62\n",
            "3 56.645\n",
            "4 93.48\n",
            "5 140.125\n"
          ]
        }
      ]
    },
    {
      "cell_type": "markdown",
      "source": [
        "Lamentablemente, la función no acepta números decimales, por lo que para calcular en tiempos decimales, tenemos que hacer un cambio en las variables"
      ],
      "metadata": {
        "id": "mASXfEIJ_du6"
      }
    },
    {
      "cell_type": "code",
      "source": [
        "v_i = 2.5 #m/s\n",
        "g =  9.81 # m/s^2\n",
        "t_i = 0 #s\n",
        "t_f = 51\n",
        "x_i = 5 # m\n",
        "for t_for in range(t_i, t_f):\n",
        "    t = t_for/10\n",
        "    x_f = x_i + v_i*t + 0.5*g*t**2\n",
        "    print(t, x_f)"
      ],
      "metadata": {
        "colab": {
          "base_uri": "https://localhost:8080/"
        },
        "id": "GTpSVXgFq1cW",
        "outputId": "9db0a1c1-a7fd-4f89-d62f-845235d07b20"
      },
      "execution_count": null,
      "outputs": [
        {
          "output_type": "stream",
          "name": "stdout",
          "text": [
            "0.0 5.0\n",
            "0.1 5.29905\n",
            "0.2 5.6962\n",
            "0.3 6.19145\n",
            "0.4 6.784800000000001\n",
            "0.5 7.47625\n",
            "0.6 8.2658\n",
            "0.7 9.15345\n",
            "0.8 10.1392\n",
            "0.9 11.22305\n",
            "1.0 12.405000000000001\n",
            "1.1 13.68505\n",
            "1.2 15.0632\n",
            "1.3 16.539450000000002\n",
            "1.4 18.113799999999998\n",
            "1.5 19.786250000000003\n",
            "1.6 21.556800000000003\n",
            "1.7 23.425449999999998\n",
            "1.8 25.392200000000003\n",
            "1.9 27.45705\n",
            "2.0 29.62\n",
            "2.1 31.881050000000002\n",
            "2.2 34.2402\n",
            "2.3 36.697449999999996\n",
            "2.4 39.2528\n",
            "2.5 41.90625\n",
            "2.6 44.6578\n",
            "2.7 47.507450000000006\n",
            "2.8 50.4552\n",
            "2.9 53.50105\n",
            "3.0 56.645\n",
            "3.1 59.88705000000001\n",
            "3.2 63.22720000000001\n",
            "3.3 66.66544999999999\n",
            "3.4 70.20179999999999\n",
            "3.5 73.83625\n",
            "3.6 77.56880000000001\n",
            "3.7 81.39945000000002\n",
            "3.8 85.3282\n",
            "3.9 89.35505\n",
            "4.0 93.48\n",
            "4.1 97.70305\n",
            "4.2 102.02420000000001\n",
            "4.3 106.44345\n",
            "4.4 110.96080000000002\n",
            "4.5 115.57625\n",
            "4.6 120.28979999999999\n",
            "4.7 125.10145000000003\n",
            "4.8 130.0112\n",
            "4.9 135.01905000000005\n",
            "5.0 140.125\n"
          ]
        }
      ]
    },
    {
      "cell_type": "markdown",
      "source": [
        "Con los datos generados, uno quisiera poder guardarlos para un posterior análisis. Podemos hacer esto guardandolos en un archivo.\n",
        "\n",
        "Para abrir un archivo utilizamos la función `open()` donde especificamos el nombre del archivo y el modo en el que se abrirá el archivo, en este caso en modo escritura `w+`. El símbolo `+` índica que se permite tanto la lectura como escritura del archivo.\n",
        "\n",
        "Hay que hacer notar que si no existe el archivo, se crea en el sistema de archivos.\n",
        "\n",
        "Siempre que se abre un archivo se tiene que cerrar con `.close()\n",
        "\n",
        "Si se desea escribir en el archivo, se utiliza `.write()` el cual sigue todas las reglas de `print()`"
      ],
      "metadata": {
        "id": "xlRYS4uP_74K"
      }
    },
    {
      "cell_type": "code",
      "source": [
        "file1 = open('file1.txt', 'w+')\n",
        "v_i = 2.5 #m/s\n",
        "g =  9.81 # m/s^2\n",
        "t_i = 0 #s\n",
        "t_f = 51\n",
        "x_i = 5 # m\n",
        "for t_for in range(t_i, t_f):\n",
        "    t = t_for/10\n",
        "    x_f = x_i + v_i*t + 0.5*g*t**2\n",
        "    print(t, x_f)\n",
        "    file1.write(f'{t},{x_f}\\n')\n",
        "file1.close()"
      ],
      "metadata": {
        "colab": {
          "base_uri": "https://localhost:8080/"
        },
        "id": "luiYmLdtrEf8",
        "outputId": "37a1cf2e-bb3e-42a4-8261-a5b2f24beaf2"
      },
      "execution_count": null,
      "outputs": [
        {
          "output_type": "stream",
          "name": "stdout",
          "text": [
            "0.0 5.0\n",
            "0.1 5.29905\n",
            "0.2 5.6962\n",
            "0.3 6.19145\n",
            "0.4 6.784800000000001\n",
            "0.5 7.47625\n",
            "0.6 8.2658\n",
            "0.7 9.15345\n",
            "0.8 10.1392\n",
            "0.9 11.22305\n",
            "1.0 12.405000000000001\n",
            "1.1 13.68505\n",
            "1.2 15.0632\n",
            "1.3 16.539450000000002\n",
            "1.4 18.113799999999998\n",
            "1.5 19.786250000000003\n",
            "1.6 21.556800000000003\n",
            "1.7 23.425449999999998\n",
            "1.8 25.392200000000003\n",
            "1.9 27.45705\n",
            "2.0 29.62\n",
            "2.1 31.881050000000002\n",
            "2.2 34.2402\n",
            "2.3 36.697449999999996\n",
            "2.4 39.2528\n",
            "2.5 41.90625\n",
            "2.6 44.6578\n",
            "2.7 47.507450000000006\n",
            "2.8 50.4552\n",
            "2.9 53.50105\n",
            "3.0 56.645\n",
            "3.1 59.88705000000001\n",
            "3.2 63.22720000000001\n",
            "3.3 66.66544999999999\n",
            "3.4 70.20179999999999\n",
            "3.5 73.83625\n",
            "3.6 77.56880000000001\n",
            "3.7 81.39945000000002\n",
            "3.8 85.3282\n",
            "3.9 89.35505\n",
            "4.0 93.48\n",
            "4.1 97.70305\n",
            "4.2 102.02420000000001\n",
            "4.3 106.44345\n",
            "4.4 110.96080000000002\n",
            "4.5 115.57625\n",
            "4.6 120.28979999999999\n",
            "4.7 125.10145000000003\n",
            "4.8 130.0112\n",
            "4.9 135.01905000000005\n",
            "5.0 140.125\n"
          ]
        }
      ]
    },
    {
      "cell_type": "markdown",
      "source": [
        "Una matera alternativa es hacerlo con el comando `with`, esto definirá el archivo en un bloque de código con la siguiente sintáxis:\n",
        "```\n",
        "with open('filename', 'mode') as variable_file:\n",
        "    codigo1\n",
        "    codigo2\n",
        "    .\n",
        "    .\n",
        "    .\n",
        "```\n",
        "Dentro de `with`, estará abierto el archivo, una vez que termine el código dentro de `with` el archivo se cerrará **automáticamente**. Es por esto último que se recomiendo usar el `with`"
      ],
      "metadata": {
        "id": "79Ya6PtmBFNB"
      }
    },
    {
      "cell_type": "code",
      "source": [
        "v_i = 2.5 #m/s\n",
        "g =  9.81 # m/s^2\n",
        "t_i = 0 #s\n",
        "t_f = 51\n",
        "x_i = 5 # m\n",
        "# file1 = open('file.txt', 'w+')\n",
        "with open('file1.txt', 'w+') as file1:\n",
        "    for t_for in range(t_i, t_f):\n",
        "        t = t_for/10\n",
        "        x_f = x_i + v_i*t + 0.5*g*t**2\n",
        "        file1.write(f'{t},{x_f}\\n')\n",
        "print(\"Listo\")\n",
        "print(type(file1))"
      ],
      "metadata": {
        "colab": {
          "base_uri": "https://localhost:8080/"
        },
        "id": "sH3UCRZ1srj5",
        "outputId": "57a0e34b-0a01-404f-e9f9-d1038588a7ba"
      },
      "execution_count": null,
      "outputs": [
        {
          "output_type": "stream",
          "name": "stdout",
          "text": [
            "Listo\n",
            "<class '_io.TextIOWrapper'>\n"
          ]
        }
      ]
    },
    {
      "cell_type": "markdown",
      "source": [
        "De hecho si intentamos hacer algo con el archivo, nos dirá que ya se encuentra cerrado"
      ],
      "metadata": {
        "id": "TQjBFvwaBiNI"
      }
    },
    {
      "cell_type": "code",
      "source": [
        "file1.write('Hola')"
      ],
      "metadata": {
        "colab": {
          "base_uri": "https://localhost:8080/",
          "height": 141
        },
        "id": "SHdQ0g6Htgr6",
        "outputId": "cb17bb05-e9e8-4d1e-9f74-2630a1dcf39c"
      },
      "execution_count": null,
      "outputs": [
        {
          "output_type": "error",
          "ename": "ValueError",
          "evalue": "I/O operation on closed file.",
          "traceback": [
            "\u001b[0;31m---------------------------------------------------------------------------\u001b[0m",
            "\u001b[0;31mValueError\u001b[0m                                Traceback (most recent call last)",
            "\u001b[0;32m<ipython-input-86-2cef6bc2567b>\u001b[0m in \u001b[0;36m<cell line: 1>\u001b[0;34m()\u001b[0m\n\u001b[0;32m----> 1\u001b[0;31m \u001b[0mfile1\u001b[0m\u001b[0;34m.\u001b[0m\u001b[0mwrite\u001b[0m\u001b[0;34m(\u001b[0m\u001b[0;34m'Hola'\u001b[0m\u001b[0;34m)\u001b[0m\u001b[0;34m\u001b[0m\u001b[0;34m\u001b[0m\u001b[0m\n\u001b[0m",
            "\u001b[0;31mValueError\u001b[0m: I/O operation on closed file."
          ]
        }
      ]
    },
    {
      "cell_type": "markdown",
      "source": [
        "## Leyendo archivos"
      ],
      "metadata": {
        "id": "3gh0sfLvBuw4"
      }
    },
    {
      "cell_type": "markdown",
      "source": [
        "Para abrir un archivo, se hace exactamente igual pero se abre en modo lectura con `'r'`.\n",
        "\n",
        "Para leer todo el archivo, usamos `.read()`"
      ],
      "metadata": {
        "id": "snyRy6keBn6B"
      }
    },
    {
      "cell_type": "code",
      "source": [
        "with open('file1.txt', 'r') as file1:\n",
        "    print(file1.read())"
      ],
      "metadata": {
        "colab": {
          "base_uri": "https://localhost:8080/"
        },
        "id": "-1d25w-ytlu8",
        "outputId": "0ba77a3a-1d56-4d88-a847-b14974ba437f"
      },
      "execution_count": null,
      "outputs": [
        {
          "output_type": "stream",
          "name": "stdout",
          "text": [
            "0.0,5.0\n",
            "0.1,5.29905\n",
            "0.2,5.6962\n",
            "0.3,6.19145\n",
            "0.4,6.784800000000001\n",
            "0.5,7.47625\n",
            "0.6,8.2658\n",
            "0.7,9.15345\n",
            "0.8,10.1392\n",
            "0.9,11.22305\n",
            "1.0,12.405000000000001\n",
            "1.1,13.68505\n",
            "1.2,15.0632\n",
            "1.3,16.539450000000002\n",
            "1.4,18.113799999999998\n",
            "1.5,19.786250000000003\n",
            "1.6,21.556800000000003\n",
            "1.7,23.425449999999998\n",
            "1.8,25.392200000000003\n",
            "1.9,27.45705\n",
            "2.0,29.62\n",
            "2.1,31.881050000000002\n",
            "2.2,34.2402\n",
            "2.3,36.697449999999996\n",
            "2.4,39.2528\n",
            "2.5,41.90625\n",
            "2.6,44.6578\n",
            "2.7,47.507450000000006\n",
            "2.8,50.4552\n",
            "2.9,53.50105\n",
            "3.0,56.645\n",
            "3.1,59.88705000000001\n",
            "3.2,63.22720000000001\n",
            "3.3,66.66544999999999\n",
            "3.4,70.20179999999999\n",
            "3.5,73.83625\n",
            "3.6,77.56880000000001\n",
            "3.7,81.39945000000002\n",
            "3.8,85.3282\n",
            "3.9,89.35505\n",
            "4.0,93.48\n",
            "4.1,97.70305\n",
            "4.2,102.02420000000001\n",
            "4.3,106.44345\n",
            "4.4,110.96080000000002\n",
            "4.5,115.57625\n",
            "4.6,120.28979999999999\n",
            "4.7,125.10145000000003\n",
            "4.8,130.0112\n",
            "4.9,135.01905000000005\n",
            "5.0,140.125\n",
            "\n"
          ]
        }
      ]
    },
    {
      "cell_type": "markdown",
      "source": [
        "Existe otro comando que es `.readlines()` el cual nos dará en una lista cada una de las líneas del archivo."
      ],
      "metadata": {
        "id": "AjPFa4MQCAvR"
      }
    },
    {
      "cell_type": "code",
      "source": [
        "with open('file1.txt', 'r') as file1:\n",
        "    print(file1.readlines())"
      ],
      "metadata": {
        "colab": {
          "base_uri": "https://localhost:8080/"
        },
        "id": "fRD9QeJlt24t",
        "outputId": "b2f9c73b-dc21-48e8-9deb-e9a1c552a9ab"
      },
      "execution_count": null,
      "outputs": [
        {
          "output_type": "stream",
          "name": "stdout",
          "text": [
            "['0.0,5.0\\n', '0.1,5.29905\\n', '0.2,5.6962\\n', '0.3,6.19145\\n', '0.4,6.784800000000001\\n', '0.5,7.47625\\n', '0.6,8.2658\\n', '0.7,9.15345\\n', '0.8,10.1392\\n', '0.9,11.22305\\n', '1.0,12.405000000000001\\n', '1.1,13.68505\\n', '1.2,15.0632\\n', '1.3,16.539450000000002\\n', '1.4,18.113799999999998\\n', '1.5,19.786250000000003\\n', '1.6,21.556800000000003\\n', '1.7,23.425449999999998\\n', '1.8,25.392200000000003\\n', '1.9,27.45705\\n', '2.0,29.62\\n', '2.1,31.881050000000002\\n', '2.2,34.2402\\n', '2.3,36.697449999999996\\n', '2.4,39.2528\\n', '2.5,41.90625\\n', '2.6,44.6578\\n', '2.7,47.507450000000006\\n', '2.8,50.4552\\n', '2.9,53.50105\\n', '3.0,56.645\\n', '3.1,59.88705000000001\\n', '3.2,63.22720000000001\\n', '3.3,66.66544999999999\\n', '3.4,70.20179999999999\\n', '3.5,73.83625\\n', '3.6,77.56880000000001\\n', '3.7,81.39945000000002\\n', '3.8,85.3282\\n', '3.9,89.35505\\n', '4.0,93.48\\n', '4.1,97.70305\\n', '4.2,102.02420000000001\\n', '4.3,106.44345\\n', '4.4,110.96080000000002\\n', '4.5,115.57625\\n', '4.6,120.28979999999999\\n', '4.7,125.10145000000003\\n', '4.8,130.0112\\n', '4.9,135.01905000000005\\n', '5.0,140.125\\n']\n"
          ]
        }
      ]
    },
    {
      "cell_type": "markdown",
      "source": [
        "Por otro lado, podemos iterar el archivo en si en un for para que nos entregue en cada iteración cada una de las líneas del archivo."
      ],
      "metadata": {
        "id": "TkuyeKNDCP6o"
      }
    },
    {
      "cell_type": "code",
      "source": [
        "with open('file1.txt', 'r') as file1:\n",
        "    for line in file1:\n",
        "        print(line)"
      ],
      "metadata": {
        "colab": {
          "base_uri": "https://localhost:8080/"
        },
        "id": "L3hWBF_Mt-Y0",
        "outputId": "019d11fa-caae-483d-b8fb-a59b12ae7006"
      },
      "execution_count": null,
      "outputs": [
        {
          "output_type": "stream",
          "name": "stdout",
          "text": [
            "0.0,5.0\n",
            "\n",
            "0.1,5.29905\n",
            "\n",
            "0.2,5.6962\n",
            "\n",
            "0.3,6.19145\n",
            "\n",
            "0.4,6.784800000000001\n",
            "\n",
            "0.5,7.47625\n",
            "\n",
            "0.6,8.2658\n",
            "\n",
            "0.7,9.15345\n",
            "\n",
            "0.8,10.1392\n",
            "\n",
            "0.9,11.22305\n",
            "\n",
            "1.0,12.405000000000001\n",
            "\n",
            "1.1,13.68505\n",
            "\n",
            "1.2,15.0632\n",
            "\n",
            "1.3,16.539450000000002\n",
            "\n",
            "1.4,18.113799999999998\n",
            "\n",
            "1.5,19.786250000000003\n",
            "\n",
            "1.6,21.556800000000003\n",
            "\n",
            "1.7,23.425449999999998\n",
            "\n",
            "1.8,25.392200000000003\n",
            "\n",
            "1.9,27.45705\n",
            "\n",
            "2.0,29.62\n",
            "\n",
            "2.1,31.881050000000002\n",
            "\n",
            "2.2,34.2402\n",
            "\n",
            "2.3,36.697449999999996\n",
            "\n",
            "2.4,39.2528\n",
            "\n",
            "2.5,41.90625\n",
            "\n",
            "2.6,44.6578\n",
            "\n",
            "2.7,47.507450000000006\n",
            "\n",
            "2.8,50.4552\n",
            "\n",
            "2.9,53.50105\n",
            "\n",
            "3.0,56.645\n",
            "\n",
            "3.1,59.88705000000001\n",
            "\n",
            "3.2,63.22720000000001\n",
            "\n",
            "3.3,66.66544999999999\n",
            "\n",
            "3.4,70.20179999999999\n",
            "\n",
            "3.5,73.83625\n",
            "\n",
            "3.6,77.56880000000001\n",
            "\n",
            "3.7,81.39945000000002\n",
            "\n",
            "3.8,85.3282\n",
            "\n",
            "3.9,89.35505\n",
            "\n",
            "4.0,93.48\n",
            "\n",
            "4.1,97.70305\n",
            "\n",
            "4.2,102.02420000000001\n",
            "\n",
            "4.3,106.44345\n",
            "\n",
            "4.4,110.96080000000002\n",
            "\n",
            "4.5,115.57625\n",
            "\n",
            "4.6,120.28979999999999\n",
            "\n",
            "4.7,125.10145000000003\n",
            "\n",
            "4.8,130.0112\n",
            "\n",
            "4.9,135.01905000000005\n",
            "\n",
            "5.0,140.125\n",
            "\n"
          ]
        }
      ]
    },
    {
      "cell_type": "markdown",
      "source": [
        "# Operaciones con strings"
      ],
      "metadata": {
        "id": "9UHeVghbCnki"
      }
    },
    {
      "cell_type": "markdown",
      "source": [
        "Como vimos anteriormente, podemos realizar ciertas operaciones con listas, por ejemplo el método `count()` cuenta cuantas veces aparece cierto elemento en la lista."
      ],
      "metadata": {
        "id": "Jw2ySv1-uVfy"
      }
    },
    {
      "cell_type": "code",
      "source": [
        "lista = [1,2,3,4,5,6,7,8,9,10]\n",
        "lista.count(1)"
      ],
      "metadata": {
        "colab": {
          "base_uri": "https://localhost:8080/"
        },
        "id": "iLP_yh3ZuWPl",
        "outputId": "08851867-3eb7-4fb0-9aa1-9ad6a250cde8"
      },
      "execution_count": null,
      "outputs": [
        {
          "output_type": "execute_result",
          "data": {
            "text/plain": [
              "1"
            ]
          },
          "metadata": {},
          "execution_count": 90
        }
      ]
    },
    {
      "cell_type": "markdown",
      "source": [
        "Las strings al ser una secuencia de elementos, en este caso caracteres, tambien podemos hacer algunas operaciones parecidas a las que hacemos con las listas, por ejemplo, las strings también tienen el método `count()`"
      ],
      "metadata": {
        "id": "j4fbcvAsC8Xn"
      }
    },
    {
      "cell_type": "code",
      "source": [
        "str1 = 'Hola Mundo'\n",
        "str1.count('o')"
      ],
      "metadata": {
        "colab": {
          "base_uri": "https://localhost:8080/"
        },
        "id": "dNTlTlCJuZ5u",
        "outputId": "2a6f39ad-8e18-466c-ad5d-366821aa1507"
      },
      "execution_count": null,
      "outputs": [
        {
          "output_type": "execute_result",
          "data": {
            "text/plain": [
              "2"
            ]
          },
          "metadata": {},
          "execution_count": 91
        }
      ]
    },
    {
      "cell_type": "markdown",
      "source": [
        "En especial, tenemos el método `split()` que divide a la string por un caracter dado, por ejemeplo un espacio"
      ],
      "metadata": {
        "id": "VA28mrKUDQVn"
      }
    },
    {
      "cell_type": "code",
      "source": [
        "str1.split(' ')"
      ],
      "metadata": {
        "colab": {
          "base_uri": "https://localhost:8080/"
        },
        "id": "K2X1UqsguctQ",
        "outputId": "ab3983d1-c3a8-456f-d1b7-3f8170427f2c"
      },
      "execution_count": null,
      "outputs": [
        {
          "output_type": "execute_result",
          "data": {
            "text/plain": [
              "['Hola', 'Mundo']"
            ]
          },
          "metadata": {},
          "execution_count": 92
        }
      ]
    },
    {
      "cell_type": "markdown",
      "source": [
        "O una letra, como `'o'`"
      ],
      "metadata": {
        "id": "-oXWa-wCDVid"
      }
    },
    {
      "cell_type": "code",
      "source": [
        "str1.split('o')\n"
      ],
      "metadata": {
        "colab": {
          "base_uri": "https://localhost:8080/"
        },
        "id": "CsDXj_czuhpI",
        "outputId": "e61661fd-187c-4ae9-deed-d435fa4cc485"
      },
      "execution_count": null,
      "outputs": [
        {
          "output_type": "execute_result",
          "data": {
            "text/plain": [
              "['H', 'la Mund', '']"
            ]
          },
          "metadata": {},
          "execution_count": 93
        }
      ]
    },
    {
      "cell_type": "markdown",
      "source": [
        "Esto es muy útil para usarlo cuando leemos un archivo porque si sabemos que este archivo tienen columnas y cada una de ellas está delimitada por un caracter en especifico, por ejemplo una coma, podemos usar `split(',')` para separar las columnas y tener una lista con los elementos separados"
      ],
      "metadata": {
        "id": "q-ncZieYDX7h"
      }
    },
    {
      "cell_type": "code",
      "source": [
        "with open('file1.txt', 'r') as file1:\n",
        "    for line in file1:\n",
        "        print(line.split(','))"
      ],
      "metadata": {
        "colab": {
          "base_uri": "https://localhost:8080/"
        },
        "id": "9I0FpDveulT7",
        "outputId": "7e525e87-fedf-414d-c59b-b8048974ae00"
      },
      "execution_count": null,
      "outputs": [
        {
          "output_type": "stream",
          "name": "stdout",
          "text": [
            "['0.0', '5.0\\n']\n",
            "['0.1', '5.29905\\n']\n",
            "['0.2', '5.6962\\n']\n",
            "['0.3', '6.19145\\n']\n",
            "['0.4', '6.784800000000001\\n']\n",
            "['0.5', '7.47625\\n']\n",
            "['0.6', '8.2658\\n']\n",
            "['0.7', '9.15345\\n']\n",
            "['0.8', '10.1392\\n']\n",
            "['0.9', '11.22305\\n']\n",
            "['1.0', '12.405000000000001\\n']\n",
            "['1.1', '13.68505\\n']\n",
            "['1.2', '15.0632\\n']\n",
            "['1.3', '16.539450000000002\\n']\n",
            "['1.4', '18.113799999999998\\n']\n",
            "['1.5', '19.786250000000003\\n']\n",
            "['1.6', '21.556800000000003\\n']\n",
            "['1.7', '23.425449999999998\\n']\n",
            "['1.8', '25.392200000000003\\n']\n",
            "['1.9', '27.45705\\n']\n",
            "['2.0', '29.62\\n']\n",
            "['2.1', '31.881050000000002\\n']\n",
            "['2.2', '34.2402\\n']\n",
            "['2.3', '36.697449999999996\\n']\n",
            "['2.4', '39.2528\\n']\n",
            "['2.5', '41.90625\\n']\n",
            "['2.6', '44.6578\\n']\n",
            "['2.7', '47.507450000000006\\n']\n",
            "['2.8', '50.4552\\n']\n",
            "['2.9', '53.50105\\n']\n",
            "['3.0', '56.645\\n']\n",
            "['3.1', '59.88705000000001\\n']\n",
            "['3.2', '63.22720000000001\\n']\n",
            "['3.3', '66.66544999999999\\n']\n",
            "['3.4', '70.20179999999999\\n']\n",
            "['3.5', '73.83625\\n']\n",
            "['3.6', '77.56880000000001\\n']\n",
            "['3.7', '81.39945000000002\\n']\n",
            "['3.8', '85.3282\\n']\n",
            "['3.9', '89.35505\\n']\n",
            "['4.0', '93.48\\n']\n",
            "['4.1', '97.70305\\n']\n",
            "['4.2', '102.02420000000001\\n']\n",
            "['4.3', '106.44345\\n']\n",
            "['4.4', '110.96080000000002\\n']\n",
            "['4.5', '115.57625\\n']\n",
            "['4.6', '120.28979999999999\\n']\n",
            "['4.7', '125.10145000000003\\n']\n",
            "['4.8', '130.0112\\n']\n",
            "['4.9', '135.01905000000005\\n']\n",
            "['5.0', '140.125\\n']\n"
          ]
        }
      ]
    },
    {
      "cell_type": "markdown",
      "source": [
        "Incluso, podemos solamente seleccionar una de las dos columnas."
      ],
      "metadata": {
        "id": "Qnmlv1DKDvXD"
      }
    },
    {
      "cell_type": "code",
      "source": [
        "with open('file1.txt', 'r') as file1:\n",
        "    for line in file1:\n",
        "        print(line.split(',')[0])"
      ],
      "metadata": {
        "colab": {
          "base_uri": "https://localhost:8080/"
        },
        "id": "vio_7h_EuySc",
        "outputId": "3c36fba4-b8fb-4c8b-e684-b6f51c9945bc"
      },
      "execution_count": null,
      "outputs": [
        {
          "output_type": "stream",
          "name": "stdout",
          "text": [
            "0.0\n",
            "0.1\n",
            "0.2\n",
            "0.3\n",
            "0.4\n",
            "0.5\n",
            "0.6\n",
            "0.7\n",
            "0.8\n",
            "0.9\n",
            "1.0\n",
            "1.1\n",
            "1.2\n",
            "1.3\n",
            "1.4\n",
            "1.5\n",
            "1.6\n",
            "1.7\n",
            "1.8\n",
            "1.9\n",
            "2.0\n",
            "2.1\n",
            "2.2\n",
            "2.3\n",
            "2.4\n",
            "2.5\n",
            "2.6\n",
            "2.7\n",
            "2.8\n",
            "2.9\n",
            "3.0\n",
            "3.1\n",
            "3.2\n",
            "3.3\n",
            "3.4\n",
            "3.5\n",
            "3.6\n",
            "3.7\n",
            "3.8\n",
            "3.9\n",
            "4.0\n",
            "4.1\n",
            "4.2\n",
            "4.3\n",
            "4.4\n",
            "4.5\n",
            "4.6\n",
            "4.7\n",
            "4.8\n",
            "4.9\n",
            "5.0\n"
          ]
        }
      ]
    },
    {
      "cell_type": "code",
      "source": [],
      "metadata": {
        "id": "-dULvet6wXOW"
      },
      "execution_count": null,
      "outputs": []
    }
  ]
}